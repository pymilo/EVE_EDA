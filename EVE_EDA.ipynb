{
 "cells": [
  {
   "cell_type": "markdown",
   "id": "0260e93c",
   "metadata": {},
   "source": [
    "# EVE EDA\n",
    "#### Milo @ Berkeley\n",
    "#### Dec 2022"
   ]
  },
  {
   "cell_type": "markdown",
   "id": "f746f636",
   "metadata": {},
   "source": [
    "Run the `create_flare_list.py` script to create the `>C1_flares.csv` file containing all >C1 flares in the 2010/4/30 - 2010/4/30 time range. "
   ]
  },
  {
   "cell_type": "code",
   "execution_count": 48,
   "id": "7615a7c4",
   "metadata": {},
   "outputs": [],
   "source": [
    "import pandas as pd\n",
    "import astropy.units as u\n",
    "import datetime\n",
    "import matplotlib.pyplot as plt\n",
    "import matplotlib.dates as md"
   ]
  },
  {
   "cell_type": "code",
   "execution_count": 49,
   "id": "0ab2e43c",
   "metadata": {},
   "outputs": [],
   "source": [
    "def flareclass_to_flux(goes_class_str):\n",
    "    \"\"\"copied from sunpy\"\"\"\n",
    "    if not isinstance(goes_class_str, type('str')):\n",
    "        raise TypeError(\"Input must be a string\")\n",
    "\n",
    "    GOES_CONVERSION_DICT = {'X': u.Quantity(1e-4, \"W/m^2\"),\n",
    "                            'M': u.Quantity(1e-5, \"W/m^2\"),\n",
    "                            'C': u.Quantity(1e-6, \"W/m^2\"),\n",
    "                            'B': u.Quantity(1e-7, \"W/m^2\"),\n",
    "                            'A': u.Quantity(1e-8, \"W/m^2\")}\n",
    "\n",
    "    # invert the conversion dictionary\n",
    "    # conversion_dict = {v: k for k, v in GOES_CONVERSION_DICT.items()}\n",
    "    return float(goes_class_str.upper()[1:]) * GOES_CONVERSION_DICT[goes_class_str.upper()[0]]"
   ]
  },
  {
   "cell_type": "code",
   "execution_count": 54,
   "id": "0477fffb",
   "metadata": {},
   "outputs": [],
   "source": [
    "# Read CSV file with Flare List >C1\n",
    "All_flares = pd.read_csv('./C1_flares.csv')\n",
    "# Convert all times into datetime objects\n",
    "All_flares.event_starttime = pd.to_datetime(All_flares.event_starttime)\n",
    "All_flares.event_peaktime = pd.to_datetime(All_flares.event_peaktime)\n",
    "All_flares.event_endtime = pd.to_datetime(All_flares.event_endtime)\n",
    "# Convert all GOES classes (str) into Power quantities (float * unit)\n",
    "All_flares['fl_goescls_float'] = All_flares.fl_goescls.apply(flareclass_to_flux)"
   ]
  },
  {
   "cell_type": "code",
   "execution_count": 55,
   "id": "becc15d0",
   "metadata": {},
   "outputs": [
    {
     "data": {
      "text/html": [
       "<div>\n",
       "<style scoped>\n",
       "    .dataframe tbody tr th:only-of-type {\n",
       "        vertical-align: middle;\n",
       "    }\n",
       "\n",
       "    .dataframe tbody tr th {\n",
       "        vertical-align: top;\n",
       "    }\n",
       "\n",
       "    .dataframe thead th {\n",
       "        text-align: right;\n",
       "    }\n",
       "</style>\n",
       "<table border=\"1\" class=\"dataframe\">\n",
       "  <thead>\n",
       "    <tr style=\"text-align: right;\">\n",
       "      <th></th>\n",
       "      <th>event_starttime</th>\n",
       "      <th>event_peaktime</th>\n",
       "      <th>event_endtime</th>\n",
       "      <th>fl_goescls</th>\n",
       "      <th>ar_noaanum</th>\n",
       "      <th>fl_goescls_float</th>\n",
       "    </tr>\n",
       "  </thead>\n",
       "  <tbody>\n",
       "    <tr>\n",
       "      <th>0</th>\n",
       "      <td>2010-04-30 19:28:00</td>\n",
       "      <td>2010-04-30 19:34:00</td>\n",
       "      <td>2010-04-30 19:38:00</td>\n",
       "      <td>C2.2</td>\n",
       "      <td>11067</td>\n",
       "      <td>2.2e-06 W / m2</td>\n",
       "    </tr>\n",
       "    <tr>\n",
       "      <th>1</th>\n",
       "      <td>2010-05-01 01:34:00</td>\n",
       "      <td>2010-05-01 01:39:00</td>\n",
       "      <td>2010-05-01 01:43:00</td>\n",
       "      <td>C5.7</td>\n",
       "      <td>11067</td>\n",
       "      <td>5.7e-06 W / m2</td>\n",
       "    </tr>\n",
       "    <tr>\n",
       "      <th>2</th>\n",
       "      <td>2010-05-04 16:15:00</td>\n",
       "      <td>2010-05-04 16:29:00</td>\n",
       "      <td>2010-05-04 16:34:00</td>\n",
       "      <td>C3.6</td>\n",
       "      <td>11069</td>\n",
       "      <td>3.6e-06 W / m2</td>\n",
       "    </tr>\n",
       "    <tr>\n",
       "      <th>3</th>\n",
       "      <td>2010-05-05 07:09:00</td>\n",
       "      <td>2010-05-05 07:16:00</td>\n",
       "      <td>2010-05-05 07:20:00</td>\n",
       "      <td>C2.3</td>\n",
       "      <td>11069</td>\n",
       "      <td>2.2999999999999996e-06 W / m2</td>\n",
       "    </tr>\n",
       "    <tr>\n",
       "      <th>4</th>\n",
       "      <td>2010-05-05 11:37:00</td>\n",
       "      <td>2010-05-05 11:52:00</td>\n",
       "      <td>2010-05-05 11:58:00</td>\n",
       "      <td>C8.8</td>\n",
       "      <td>11069</td>\n",
       "      <td>8.8e-06 W / m2</td>\n",
       "    </tr>\n",
       "    <tr>\n",
       "      <th>...</th>\n",
       "      <td>...</td>\n",
       "      <td>...</td>\n",
       "      <td>...</td>\n",
       "      <td>...</td>\n",
       "      <td>...</td>\n",
       "      <td>...</td>\n",
       "    </tr>\n",
       "    <tr>\n",
       "      <th>10298</th>\n",
       "      <td>2022-10-28 22:15:00</td>\n",
       "      <td>2022-10-28 22:22:00</td>\n",
       "      <td>2022-10-28 22:26:00</td>\n",
       "      <td>C1.6</td>\n",
       "      <td>0</td>\n",
       "      <td>1.6e-06 W / m2</td>\n",
       "    </tr>\n",
       "    <tr>\n",
       "      <th>10299</th>\n",
       "      <td>2022-10-29 09:49:00</td>\n",
       "      <td>2022-10-29 09:56:00</td>\n",
       "      <td>2022-10-29 10:03:00</td>\n",
       "      <td>C1.9</td>\n",
       "      <td>0</td>\n",
       "      <td>1.8999999999999998e-06 W / m2</td>\n",
       "    </tr>\n",
       "    <tr>\n",
       "      <th>10300</th>\n",
       "      <td>2022-10-29 10:24:00</td>\n",
       "      <td>2022-10-29 10:32:00</td>\n",
       "      <td>2022-10-29 10:40:00</td>\n",
       "      <td>C1.1</td>\n",
       "      <td>0</td>\n",
       "      <td>1.1e-06 W / m2</td>\n",
       "    </tr>\n",
       "    <tr>\n",
       "      <th>10301</th>\n",
       "      <td>2022-10-29 18:58:00</td>\n",
       "      <td>2022-10-29 19:14:00</td>\n",
       "      <td>2022-10-29 19:37:00</td>\n",
       "      <td>C1.1</td>\n",
       "      <td>0</td>\n",
       "      <td>1.1e-06 W / m2</td>\n",
       "    </tr>\n",
       "    <tr>\n",
       "      <th>10302</th>\n",
       "      <td>2022-10-30 14:48:00</td>\n",
       "      <td>2022-10-30 14:51:00</td>\n",
       "      <td>2022-10-30 14:55:00</td>\n",
       "      <td>C1.3</td>\n",
       "      <td>0</td>\n",
       "      <td>1.3e-06 W / m2</td>\n",
       "    </tr>\n",
       "  </tbody>\n",
       "</table>\n",
       "<p>10303 rows × 6 columns</p>\n",
       "</div>"
      ],
      "text/plain": [
       "          event_starttime      event_peaktime       event_endtime fl_goescls  \\\n",
       "0     2010-04-30 19:28:00 2010-04-30 19:34:00 2010-04-30 19:38:00       C2.2   \n",
       "1     2010-05-01 01:34:00 2010-05-01 01:39:00 2010-05-01 01:43:00       C5.7   \n",
       "2     2010-05-04 16:15:00 2010-05-04 16:29:00 2010-05-04 16:34:00       C3.6   \n",
       "3     2010-05-05 07:09:00 2010-05-05 07:16:00 2010-05-05 07:20:00       C2.3   \n",
       "4     2010-05-05 11:37:00 2010-05-05 11:52:00 2010-05-05 11:58:00       C8.8   \n",
       "...                   ...                 ...                 ...        ...   \n",
       "10298 2022-10-28 22:15:00 2022-10-28 22:22:00 2022-10-28 22:26:00       C1.6   \n",
       "10299 2022-10-29 09:49:00 2022-10-29 09:56:00 2022-10-29 10:03:00       C1.9   \n",
       "10300 2022-10-29 10:24:00 2022-10-29 10:32:00 2022-10-29 10:40:00       C1.1   \n",
       "10301 2022-10-29 18:58:00 2022-10-29 19:14:00 2022-10-29 19:37:00       C1.1   \n",
       "10302 2022-10-30 14:48:00 2022-10-30 14:51:00 2022-10-30 14:55:00       C1.3   \n",
       "\n",
       "       ar_noaanum               fl_goescls_float  \n",
       "0           11067                 2.2e-06 W / m2  \n",
       "1           11067                 5.7e-06 W / m2  \n",
       "2           11069                 3.6e-06 W / m2  \n",
       "3           11069  2.2999999999999996e-06 W / m2  \n",
       "4           11069                 8.8e-06 W / m2  \n",
       "...           ...                            ...  \n",
       "10298           0                 1.6e-06 W / m2  \n",
       "10299           0  1.8999999999999998e-06 W / m2  \n",
       "10300           0                 1.1e-06 W / m2  \n",
       "10301           0                 1.1e-06 W / m2  \n",
       "10302           0                 1.3e-06 W / m2  \n",
       "\n",
       "[10303 rows x 6 columns]"
      ]
     },
     "execution_count": 55,
     "metadata": {},
     "output_type": "execute_result"
    }
   ],
   "source": [
    "All_flares"
   ]
  },
  {
   "cell_type": "markdown",
   "id": "2f03a195",
   "metadata": {},
   "source": [
    "### Reading EVE Historical Data"
   ]
  },
  {
   "cell_type": "code",
   "execution_count": 15,
   "id": "68e9a788",
   "metadata": {},
   "outputs": [],
   "source": [
    "def Load_Data(time_ref):\n",
    "    # Path where all EVE data is stored\n",
    "    path = './EVE_Data/lasp.colorado.edu/eve/data_access/eve_data/quicklook/L0CS/SpWx/'\n",
    "    year = time_ref.year\n",
    "    month = time_ref.strftime('%m')\n",
    "    day = time_ref.strftime('%d')    \n",
    "    # Read the Date of the observation from the first line after header\n",
    "    EVE_date = pd.read_csv(f'{path}{year}/{year}{month}{day}'+\\\n",
    "                           '_EVE_L0CS_DIODES_1m.txt',\n",
    "                           comment=';', sep= '\\s+', nrows=1, dtype = str,\n",
    "                           names=['year', 'nday', 'month', 'day'])\n",
    "    # Read the Date of the observation from the first line after header\n",
    "    EVE_date = pd.read_csv(f'{path}{year}/{year}{month}{day}'+\\\n",
    "                           '_EVE_L0CS_DIODES_1m.txt',\n",
    "                           comment=';', sep= '\\s+', nrows=1, dtype = str,\n",
    "                           names=['year', 'nday', 'month', 'day'])\n",
    "    # Column names\n",
    "    cols = ['HHMM', 'XRS-B_proxy', 'XRS-A_proxy', 'SEM_proxy', '0.1-7_ESPquad', \n",
    "            '17.1_ESP', '25.7_ESP', '30.4_ESP', '36.6_ESP', 'dark_ESP', '121.6_MEGS-P', \n",
    "            'dark_MEGS-P', 'q0_ESP', 'q1_ESP', 'q2_ESP', 'q3_ESP', 'CM_Lat', 'CM_Lon',\n",
    "            'x_cool_Proxy', 'oldXRSB_proxy']\n",
    "    # Read all EVE data from the given day\n",
    "    EVE_df = pd.read_csv(f'{path}{year}/{year}{month}{day}'+\\\n",
    "                          '_EVE_L0CS_DIODES_1m.txt',\n",
    "                          sep= '\\s+', names=cols, comment=';', parse_dates=['HHMM'],\n",
    "                          date_parser=lambda x: pd.to_datetime(EVE_date.year[0]+\\\n",
    "                                                               EVE_date.month[0]+\\\n",
    "                                                               EVE_date.day[0]+\\\n",
    "                                                               x, \n",
    "                                                               format=\"%Y%m%d%H%M\"))\n",
    "    # Drop first row (already read as EVE_date)\n",
    "    EVE_df.drop(index=EVE_df.index[0], axis=0, inplace=True)\n",
    "    EVE_df.reset_index(drop=True, inplace=True)\n",
    "\n",
    "    return EVE_df\n",
    "\n",
    "def EVE_Data(time_ref):\n",
    "    # DeltaT: How many minutes before and after the peaktime to get\n",
    "    DeltaT = pd.Timedelta(minutes=40)\n",
    "    EVE_df = Load_Data(time_ref)\n",
    "    # Choose only times around the hour and minute given in time_ref of DeltaT width\n",
    "    start_date = time_ref - DeltaT\n",
    "    end_date = time_ref + DeltaT\n",
    "    mask = (EVE_df.HHMM >= start_date) & (EVE_df.HHMM <= end_date)\n",
    "    EVE_df = EVE_df.loc[mask]\n",
    "    # If the flare happened at midnight, read the file after or before to complete time\n",
    "    if (time_ref - time_ref.normalize() + DeltaT).days == 1:\n",
    "        # if peaktime close to midnight from the left (~23h)\n",
    "        EVE_df_dayafter = Load_Data(time_ref + DeltaT)\n",
    "        EVE_df_dayafter = EVE_df_dayafter.loc[(EVE_df_dayafter.HHMM <= (time_ref + DeltaT))]\n",
    "        EVE_df = pd.concat([EVE_df, EVE_df_dayafter]).reset_index(drop=True)\n",
    "    elif (time_ref - time_ref.normalize() - DeltaT).days == -1:\n",
    "        # if peaktime close to midnight from the right (~00h)\n",
    "        EVE_df_daybefore = Load_Data(time_ref - DeltaT)\n",
    "        EVE_df_daybefore = EVE_df_daybefore.loc[(EVE_df_daybefore.HHMM >= (time_ref - DeltaT))]\n",
    "        EVE_df = pd.concat([EVE_df_daybefore, EVE_df]).reset_index(drop=True)\n",
    "    else:\n",
    "        EVE_df = EVE_df.reset_index(drop=True)\n",
    "    \n",
    "    return EVE_df"
   ]
  },
  {
   "cell_type": "code",
   "execution_count": null,
   "id": "fd240cc0",
   "metadata": {},
   "outputs": [],
   "source": []
  },
  {
   "cell_type": "code",
   "execution_count": 40,
   "id": "b03e4871",
   "metadata": {},
   "outputs": [],
   "source": [
    "def MakePlot(event_ref):\n",
    "    save_path = './Plots/'\n",
    "    EVE_df = EVE_Data(event_ref.event_peaktime)\n",
    "    colors = plt.rcParams[\"axes.prop_cycle\"]()\n",
    "    fig, ax = plt.subplots(len(EVE_df.keys()[1:]),1, figsize=(14,len(EVE_df.keys()[1:])), sharex=True)\n",
    "    ax[0].set_title(event_ref.event_peaktime.strftime('SOL%Y%m%dT%X')+\\\n",
    "                    '_'+event_ref.fl_goescls,\n",
    "                    fontsize=28)\n",
    "    for y, ax in zip(EVE_df.keys()[1:], ax.flatten()):\n",
    "        ax.axvline(x=event_ref.event_peaktime, color='grey',linestyle='--')\n",
    "        ax.axvspan(event_ref.event_starttime, event_ref.event_endtime, alpha=0.2, color='grey')\n",
    "        # Get the next color from the cycler\n",
    "        c = next(colors)[\"color\"]\n",
    "        #logy = False\n",
    "        logy = False if y in ['CM_Lat','CM_Lon'] else True\n",
    "        EVE_df.plot(x='HHMM', y=y, ax=ax, color=c, drawstyle=\"steps\", linewidth=2, logy=logy)\n",
    "\n",
    "    # Hornaments\n",
    "    xfmt = md.DateFormatter('%H:%M')\n",
    "    ax.xaxis.set_major_formatter(xfmt)\n",
    "    ax.set_xlim((EVE_df.HHMM[0],EVE_df.HHMM.tail(1)))\n",
    "    ax.tick_params(axis='x', labelsize=16)\n",
    "    ax.set_xlabel('Time [Hour:Minute]',fontsize=20)\n",
    "    fig.subplots_adjust(wspace=0, hspace=0)\n",
    "    fig.savefig(save_path+event_ref.fl_goescls+'_'+\\\n",
    "                event_ref.event_peaktime.strftime('SOL%Y%m%dT%X')+'.pdf',\n",
    "                bbox_inches='tight')\n",
    "    plt.close()\n",
    "    #plt.show()"
   ]
  },
  {
   "cell_type": "markdown",
   "id": "6d5958f8",
   "metadata": {},
   "source": [
    "#### Save plots for 20 of the 10k flares. Estimate time to run 10k.\n",
    "#### It would take ~10 hours to generate the plots of the 10k events."
   ]
  },
  {
   "cell_type": "code",
   "execution_count": 42,
   "id": "8cdc9bb0",
   "metadata": {},
   "outputs": [
    {
     "name": "stderr",
     "output_type": "stream",
     "text": [
      "/opt/homebrew/lib/python3.9/site-packages/pandas/plotting/_matplotlib/tools.py:316: UserWarning: Data has no positive values, and therefore cannot be log-scaled.\n",
      "  for t in axis.get_majorticklabels():\n",
      "/opt/homebrew/lib/python3.9/site-packages/pandas/plotting/_matplotlib/tools.py:316: UserWarning: Data has no positive values, and therefore cannot be log-scaled.\n",
      "  for t in axis.get_majorticklabels():\n",
      "/opt/homebrew/lib/python3.9/site-packages/pandas/plotting/_matplotlib/tools.py:316: UserWarning: Data has no positive values, and therefore cannot be log-scaled.\n",
      "  for t in axis.get_majorticklabels():\n"
     ]
    },
    {
     "name": "stdout",
     "output_type": "stream",
     "text": [
      "CPU times: user 19.3 s, sys: 234 ms, total: 19.5 s\n",
      "Wall time: 13.7 s\n"
     ]
    },
    {
     "data": {
      "text/plain": [
       "0       None\n",
       "3000    None\n",
       "6000    None\n",
       "9000    None\n",
       "dtype: object"
      ]
     },
     "execution_count": 42,
     "metadata": {},
     "output_type": "execute_result"
    }
   ],
   "source": [
    "%%time\n",
    "All_flares.iloc[::3000].apply(MakePlot, axis=1)"
   ]
  },
  {
   "cell_type": "markdown",
   "id": "da88db7f",
   "metadata": {},
   "source": [
    "#### Implement Function to find time of peaks (max) and save a CSV file with the peak times and intensities"
   ]
  },
  {
   "cell_type": "code",
   "execution_count": 44,
   "id": "8c57c291",
   "metadata": {},
   "outputs": [],
   "source": [
    "# Testing events:\n",
    "# event_ref = All_flares.iloc[6992] # 23h\n",
    "# event_ref = All_flares.iloc[6975] # 00h\n",
    "event_ref = All_flares.iloc[1506] # other\n",
    "# EVE_df = EVE_Data(event_ref.event_peaktime)\n",
    "# MakePlot(event_ref)"
   ]
  },
  {
   "cell_type": "code",
   "execution_count": 45,
   "id": "f9974f49",
   "metadata": {},
   "outputs": [],
   "source": [
    "EVE_df = EVE_Data(event_ref.event_peaktime)"
   ]
  },
  {
   "cell_type": "code",
   "execution_count": 95,
   "id": "e2ddc817",
   "metadata": {},
   "outputs": [
    {
     "name": "stdout",
     "output_type": "stream",
     "text": [
      "GOES =  2012-03-06 12:41:00\n",
      "Test =  2012-03-06T12:08:00.000000000\n"
     ]
    },
    {
     "data": {
      "text/plain": [
       "<AxesSubplot:xlabel='HHMM'>"
      ]
     },
     "execution_count": 95,
     "metadata": {},
     "output_type": "execute_result"
    },
    {
     "data": {
      "image/png": "[encoded data removed]",
      "text/plain": [
       "<Figure size 432x288 with 1 Axes>"
      ]
     },
     "metadata": {
      "needs_background": "light"
     },
     "output_type": "display_data"
    }
   ],
   "source": [
    "key = EVE_df.keys()[12]\n",
    "print('GOES = ',event_ref.event_peaktime)\n",
    "print('Test = ',EVE_df.HHMM[EVE_df[key]==EVE_df[key].max()].values[0])\n",
    "EVE_df.plot(x='HHMM', y=key, drawstyle=\"steps\", linewidth=2, logy=True)"
   ]
  },
  {
   "cell_type": "code",
   "execution_count": null,
   "id": "18e999cb",
   "metadata": {},
   "outputs": [],
   "source": []
  },
  {
   "cell_type": "code",
   "execution_count": null,
   "id": "1c3af7bb",
   "metadata": {},
   "outputs": [],
   "source": []
  },
  {
   "cell_type": "code",
   "execution_count": null,
   "id": "f16c568b",
   "metadata": {},
   "outputs": [],
   "source": []
  },
  {
   "cell_type": "code",
   "execution_count": null,
   "id": "fe71a5a4",
   "metadata": {},
   "outputs": [],
   "source": []
  },
  {
   "cell_type": "markdown",
   "id": "ddabdb7d",
   "metadata": {},
   "source": [
    "#### If the really first data in time series is greater than the flux at the peaktime reject. "
   ]
  },
  {
   "cell_type": "markdown",
   "id": "1cf01a0d",
   "metadata": {},
   "source": [
    "#### Plot GOES bringing Data from Sunpy. Apparently XRS-B proxy: a model of the expected XRS-B 0.1-0.8 nm value, calculated using two-component method in the EVE files"
   ]
  },
  {
   "cell_type": "markdown",
   "id": "ab57a9cd",
   "metadata": {},
   "source": [
    "#### Read Hugh's paper about EVE during Solar Flares!"
   ]
  },
  {
   "cell_type": "code",
   "execution_count": null,
   "id": "32e32804",
   "metadata": {},
   "outputs": [],
   "source": []
  },
  {
   "cell_type": "code",
   "execution_count": null,
   "id": "c117896c",
   "metadata": {},
   "outputs": [],
   "source": []
  },
  {
   "cell_type": "code",
   "execution_count": null,
   "id": "12365e32",
   "metadata": {},
   "outputs": [],
   "source": []
  },
  {
   "cell_type": "code",
   "execution_count": null,
   "id": "620e06cf",
   "metadata": {},
   "outputs": [],
   "source": []
  },
  {
   "cell_type": "code",
   "execution_count": null,
   "id": "dd765175",
   "metadata": {},
   "outputs": [],
   "source": []
  },
  {
   "cell_type": "markdown",
   "id": "adb56eed",
   "metadata": {},
   "source": [
    "Git/GitHub course @ Platzi"
   ]
  },
  {
   "cell_type": "code",
   "execution_count": null,
   "id": "eeb176d1",
   "metadata": {},
   "outputs": [],
   "source": []
  },
  {
   "cell_type": "code",
   "execution_count": null,
   "id": "ae11bdd6",
   "metadata": {},
   "outputs": [],
   "source": []
  },
  {
   "cell_type": "code",
   "execution_count": null,
   "id": "5541e166",
   "metadata": {},
   "outputs": [],
   "source": []
  },
  {
   "cell_type": "code",
   "execution_count": null,
   "id": "692e8e79",
   "metadata": {},
   "outputs": [],
   "source": []
  },
  {
   "cell_type": "code",
   "execution_count": null,
   "id": "0671877f",
   "metadata": {},
   "outputs": [],
   "source": []
  },
  {
   "cell_type": "code",
   "execution_count": null,
   "id": "9f9bb73f",
   "metadata": {},
   "outputs": [],
   "source": []
  },
  {
   "cell_type": "code",
   "execution_count": null,
   "id": "6c32d968",
   "metadata": {},
   "outputs": [],
   "source": []
  },
  {
   "cell_type": "code",
   "execution_count": null,
   "id": "36bc708a",
   "metadata": {},
   "outputs": [],
   "source": []
  },
  {
   "cell_type": "code",
   "execution_count": null,
   "id": "8299ba87",
   "metadata": {},
   "outputs": [],
   "source": []
  },
  {
   "cell_type": "code",
   "execution_count": null,
   "id": "a228ebe9",
   "metadata": {},
   "outputs": [],
   "source": []
  },
  {
   "cell_type": "code",
   "execution_count": null,
   "id": "bc4e8942",
   "metadata": {},
   "outputs": [],
   "source": []
  },
  {
   "cell_type": "code",
   "execution_count": null,
   "id": "beae6fad",
   "metadata": {},
   "outputs": [],
   "source": []
  },
  {
   "cell_type": "code",
   "execution_count": null,
   "id": "12b283b1",
   "metadata": {},
   "outputs": [],
   "source": []
  },
  {
   "cell_type": "code",
   "execution_count": null,
   "id": "534355fe",
   "metadata": {},
   "outputs": [],
   "source": []
  },
  {
   "cell_type": "code",
   "execution_count": null,
   "id": "b346309e",
   "metadata": {},
   "outputs": [],
   "source": []
  },
  {
   "cell_type": "code",
   "execution_count": null,
   "id": "e911d046",
   "metadata": {},
   "outputs": [],
   "source": []
  },
  {
   "cell_type": "code",
   "execution_count": null,
   "id": "5564dc91",
   "metadata": {},
   "outputs": [],
   "source": []
  },
  {
   "cell_type": "code",
   "execution_count": null,
   "id": "ebe804f4",
   "metadata": {},
   "outputs": [],
   "source": []
  },
  {
   "cell_type": "code",
   "execution_count": 92,
   "id": "e13ad3a1",
   "metadata": {},
   "outputs": [],
   "source": [
    "from sunpy.net import Fido\n",
    "from sunpy.net import attrs as a"
   ]
  },
  {
   "cell_type": "code",
   "execution_count": 70,
   "id": "6cf25302",
   "metadata": {},
   "outputs": [],
   "source": [
    "event_type = \"FL\"\n",
    "tstart = \"2022/10/1\"\n",
    "tend = \"2022/10/15\"\n",
    "result = Fido.search(a.Time(tstart, tend),\n",
    "                     a.hek.EventType(event_type),\n",
    "                     a.hek.FL.GOESCls > \"C1.0\",\n",
    "                     a.hek.OBS.Observatory == \"GOES\")"
   ]
  },
  {
   "cell_type": "code",
   "execution_count": 71,
   "id": "2bdb38d6",
   "metadata": {},
   "outputs": [
    {
     "name": "stdout",
     "output_type": "stream",
     "text": [
      "Results from 1 Provider:\n",
      "\n",
      "122 Results from the HEKClient:\n",
      "\n",
      "                                                        hpc_bbox                                                        ...\n",
      "----------------------------------------------------------------------------------------------------------------------- ...\n",
      "             POLYGON((-1.670367 -950.5608,1.670367 -950.5608,1.67235 951.59484,-1.67235 951.59484,-1.670367 -950.5608)) ...\n",
      "        POLYGON((-1.670403 -950.58816,1.670403 -950.58816,1.672386 951.62172,-1.672386 951.62172,-1.670403 -950.58816)) ...\n",
      "        POLYGON((-1.670409 -950.59254,1.670409 -950.59254,1.672391 951.62604,-1.672391 951.62604,-1.670409 -950.59254)) ...\n",
      "          POLYGON((-1.670419 -950.60028,1.670419 -950.60028,1.672401 951.6336,-1.672401 951.6336,-1.670419 -950.60028)) ...\n",
      "        POLYGON((-1.670454 -950.62662,1.670454 -950.62662,1.672436 951.65952,-1.672436 951.65952,-1.670454 -950.62662)) ...\n",
      "          POLYGON((-1.670469 -950.63772,1.670469 -950.63772,1.67245 951.67044,-1.67245 951.67044,-1.670469 -950.63772)) ...\n",
      "           POLYGON((-1.670494 -950.6571,1.670494 -950.6571,1.672475 951.68946,-1.672475 951.68946,-1.670494 -950.6571)) ...\n",
      "             POLYGON((-1.67056 -950.70684,1.67056 -950.70684,1.672539 951.7383,-1.672539 951.7383,-1.67056 -950.70684)) ...\n",
      "        POLYGON((-1.670682 -950.79894,1.670682 -950.79894,1.672658 951.82884,-1.672658 951.82884,-1.670682 -950.79894)) ...\n",
      "           POLYGON((-1.670692 -950.8065,1.670692 -950.8065,1.672668 951.83622,-1.672668 951.83622,-1.670692 -950.8065)) ...\n",
      "                POLYGON((-1.6707 -950.81244,1.6707 -950.81244,1.672676 951.8421,-1.672676 951.8421,-1.6707 -950.81244)) ...\n",
      "           POLYGON((-1.670733 -950.8377,1.670733 -950.8377,1.672708 951.86688,-1.672708 951.86688,-1.670733 -950.8377)) ...\n",
      "           POLYGON((-1.67086 -950.93406,1.67086 -950.93406,1.672832 951.96156,-1.672832 951.96156,-1.67086 -950.93406)) ...\n",
      "POLYGON((583.231554 204.909882,595.461024 206.095278,592.087782 222.400782,579.92742 221.222904,583.231554 204.909882)) ...\n",
      "        POLYGON((-1.670934 -950.98998,1.670934 -950.98998,1.672904 952.01646,-1.672904 952.01646,-1.670934 -950.98998)) ...\n",
      "                                                                                                                    ... ...\n",
      "        POLYGON((-1.675633 -954.69528,1.675633 -954.69528,1.677464 955.64346,-1.677464 955.64346,-1.675633 -954.69528)) ...\n",
      "        POLYGON((-1.675658 -954.71514,1.675658 -954.71514,1.677488 955.66284,-1.677488 955.66284,-1.675658 -954.71514)) ...\n",
      "        POLYGON((-1.675685 -954.73716,1.675685 -954.73716,1.677514 955.68432,-1.677514 955.68432,-1.675685 -954.73716)) ...\n",
      "        POLYGON((-1.675697 -954.74736,1.675697 -954.74736,1.677526 955.69428,-1.677526 955.69428,-1.675697 -954.74736)) ...\n",
      "           POLYGON((-1.67593 -954.93846,1.67593 -954.93846,1.677751 955.88058,-1.677751 955.88058,-1.67593 -954.93846)) ...\n",
      "    POLYGON((686.22582 339.695706,695.60712 340.949982,689.95974 356.558448,680.65422 355.315254,686.22582 339.695706)) ...\n",
      "            POLYGON((-1.676085 -955.06536,1.676085 -955.06536,1.6779 956.00436,-1.6779 956.00436,-1.676085 -955.06536)) ...\n",
      "        POLYGON((-1.676236 -955.18896,1.676236 -955.18896,1.678045 956.12484,-1.678045 956.12484,-1.676236 -955.18896)) ...\n",
      "        POLYGON((-1.676274 -955.22046,1.676274 -955.22046,1.678082 956.15556,-1.678082 956.15556,-1.676274 -955.22046)) ...\n",
      "        POLYGON((-1.676285 -955.22982,1.676285 -955.22982,1.678093 956.16468,-1.678093 956.16468,-1.676285 -955.22982)) ...\n",
      "        POLYGON((-1.676331 -955.26738,1.676331 -955.26738,1.678137 956.20128,-1.678137 956.20128,-1.676331 -955.26738)) ...\n",
      "   POLYGON((463.362546 399.06501,475.490952 399.907122,470.71125 415.121202,458.704572 414.28815,463.362546 399.06501)) ...\n",
      "        POLYGON((-1.676585 -955.47732,1.676585 -955.47732,1.678381 956.40582,-1.678381 956.40582,-1.676585 -955.47732)) ...\n",
      "            POLYGON((-1.676677 -955.55358,1.676677 -955.55358,1.67847 956.4801,-1.67847 956.4801,-1.676677 -955.55358)) ...\n",
      "          POLYGON((-1.676906 -955.74324,1.676906 -955.74324,1.67869 956.66484,-1.67869 956.66484,-1.676906 -955.74324)) ...\n",
      "Length = 122 rows\n",
      "\n",
      "\n"
     ]
    }
   ],
   "source": [
    "# Here we only show two columns due there being over 100 columns returned normally.\n",
    "print(result.show(\"hpc_bbox\", \"refs\"))\n",
    "\n",
    "# It\"s also possible to access the HEK results from the\n",
    "# `~sunpy.net.fido_factory.UnifiedResponse` by name.\n",
    "\n",
    "hek_results = result[\"hek\"]"
   ]
  },
  {
   "cell_type": "code",
   "execution_count": 72,
   "id": "ce967ea2",
   "metadata": {},
   "outputs": [
    {
     "name": "stdout",
     "output_type": "stream",
     "text": [
      "['gs_thumburl', 'comment_count', 'hpc_bbox', 'frm_humanflag', 'hgc_coord', 'event_coordsys', 'obs_levelnum', 'hpc_coord', 'event_npixels', 'gs_imageurl', 'ar_polarity', 'frm_paramset', 'hrc_coord', 'event_starttime', 'ar_mtwilsoncls', 'event_type', 'intensmin', 'fl_fluence', 'obs_meanwavel', 'frm_url', 'skel_chaincode', 'bound_chaincode', 'noposition', 'fl_fluenceunit', 'active', 'intensmax', 'frm_versionnumber', 'fl_peaktempunit', 'fl_halphaclass', 'area_uncert', 'obs_dataprepurl', 'hpc_geom', 'hgc_bbox', 'intensmedian', 'chaincodetype', 'obs_channelid', 'event_clippedspatial', 'ar_noaaclass', 'SOL_standard', 'event_avg_rating', 'eventtype', 'intensunit', 'hpc_boundcc', 'event_mapurl', 'frm_contact', 'ar_penumbracls', 'intensmean', 'bound_ccstartc1', 'frm_name', 'area_atdiskcenter', 'frm_identifier', 'obs_observatory', 'event_description', 'boundbox_c2ur', 'obs_firstprocessingdate', 'boundbox_c2ll', 'frm_institute', 'hrc_bbox', 'refs_orig', 'ar_mcintoshcls', 'event_maskurl', 'bound_ccstartc2', 'gs_movieurl', 'event_score', 'skel_startc2', 'skel_startc1', 'fl_efoldtime', 'event_expires', 'fl_efoldtimeunit', 'hrc_boundcc', 'event_probability', 'intensvar', 'frm_daterun', 'event_coordunit', 'hpc_y', 'hpc_x', 'search_instrument', 'ar_numspots', 'kb_archivdate', 'kb_archivist', 'intenstotal', 'sum_overlap_scores', 'hgs_boundcc', 'intensskew', 'obs_includesnrt', 'rasterscan', 'obs_wavelunit', 'kb_archivid', 'search_frm_name', 'boundbox_c1ur', 'ar_noaanum', 'area_atdiskcenteruncert', 'boundbox_c1ll', 'event_importance_num_ratings', 'ar_compactnesscls', 'skel_curvature', 'event_testflag', 'event_c2error', 'hrc_r', 'skel_nsteps', 'hgs_y', 'obs_title', 'fl_peakemunit', 'hgs_x', 'hcr_checked', 'frm_specificid', 'event_title', 'obs_instrument', 'event_c1error', 'revision', 'hpc_radius', 'event_endtime', 'event_importance', 'event_coord2', 'event_coord3', 'event_coord1', 'search_observatory', 'area_raw', 'concept', 'event_pixelunit', 'hgc_boundcc', 'fl_peakflux', 'hgc_x', 'hrc_a', 'event_peaktime', 'hgc_y', 'gs_galleryid', 'fl_goescls', 'hgs_coord', 'ar_zurichcls', 'bound_ccnsteps', 'intenskurt', 'event_clippedtemporal', 'fl_peakfluxunit', 'fl_peakem', 'rasterscantype', 'search_channelid', 'fl_peaktemp', 'hgs_bbox', 'area_unit', 'obs_lastprocessingdate', 'refs']\n"
     ]
    }
   ],
   "source": [
    "print(hek_results.colnames)"
   ]
  },
  {
   "cell_type": "code",
   "execution_count": 81,
   "id": "9471dc77",
   "metadata": {},
   "outputs": [],
   "source": [
    "new_table = hek_results[\"event_starttime\", \"event_peaktime\",\n",
    "                        \"event_endtime\", \"fl_goescls\", \"fl_fluence\"]"
   ]
  },
  {
   "cell_type": "code",
   "execution_count": 82,
   "id": "8300cd8b",
   "metadata": {},
   "outputs": [
    {
     "data": {
      "text/plain": [
       "122"
      ]
     },
     "execution_count": 82,
     "metadata": {},
     "output_type": "execute_result"
    }
   ],
   "source": [
    "len(new_table)\n",
    "#new_table.write(\"october_M1_flares.csv\", format=\"csv\")"
   ]
  },
  {
   "cell_type": "code",
   "execution_count": 83,
   "id": "adbbc85b",
   "metadata": {},
   "outputs": [
    {
     "data": {
      "text/html": [
       "<div><i>HEKTable length=122</i>\n",
       "<table id=\"table5731675584\" class=\"table-striped table-bordered table-condensed\">\n",
       "<thead><tr><th>event_starttime</th><th>event_peaktime</th><th>event_endtime</th><th>fl_goescls</th><th>fl_fluence</th></tr></thead>\n",
       "<thead><tr><th>Time</th><th>Time</th><th>Time</th><th>str4</th><th>object</th></tr></thead>\n",
       "<tr><td>2022-10-01 02:09:00.000</td><td>2022-10-01 02:18:00.000</td><td>2022-10-01 02:23:00.000</td><td>C2.9</td><td>None</td></tr>\n",
       "<tr><td>2022-10-01 03:55:00.000</td><td>2022-10-01 04:01:00.000</td><td>2022-10-01 04:07:00.000</td><td>C2.6</td><td>None</td></tr>\n",
       "<tr><td>2022-10-01 04:12:00.000</td><td>2022-10-01 04:17:00.000</td><td>2022-10-01 04:39:00.000</td><td>C3.8</td><td>None</td></tr>\n",
       "<tr><td>2022-10-01 04:42:00.000</td><td>2022-10-01 04:58:00.000</td><td>2022-10-01 05:12:00.000</td><td>C6.4</td><td>None</td></tr>\n",
       "<tr><td>2022-10-01 06:24:00.000</td><td>2022-10-01 06:30:00.000</td><td>2022-10-01 06:34:00.000</td><td>C2.3</td><td>None</td></tr>\n",
       "<tr><td>2022-10-01 07:07:00.000</td><td>2022-10-01 07:11:00.000</td><td>2022-10-01 07:19:00.000</td><td>C2.2</td><td>None</td></tr>\n",
       "<tr><td>2022-10-01 08:22:00.000</td><td>2022-10-01 08:31:00.000</td><td>2022-10-01 08:36:00.000</td><td>C3.8</td><td>None</td></tr>\n",
       "<tr><td>2022-10-01 11:34:00.000</td><td>2022-10-01 13:00:00.000</td><td>2022-10-01 13:22:00.000</td><td>C3.5</td><td>None</td></tr>\n",
       "<tr><td>2022-10-01 17:29:00.000</td><td>2022-10-01 17:41:00.000</td><td>2022-10-01 17:46:00.000</td><td>C3.4</td><td>None</td></tr>\n",
       "<tr><td>2022-10-01 17:58:00.000</td><td>2022-10-01 18:04:00.000</td><td>2022-10-01 18:08:00.000</td><td>C4.3</td><td>None</td></tr>\n",
       "<tr><td>2022-10-01 18:21:00.000</td><td>2022-10-01 18:27:00.000</td><td>2022-10-01 18:36:00.000</td><td>C2.4</td><td>None</td></tr>\n",
       "<tr><td>2022-10-01 19:58:00.000</td><td>2022-10-01 20:10:00.000</td><td>2022-10-01 20:16:00.000</td><td>M5.8</td><td>None</td></tr>\n",
       "<tr><td>2022-10-02 02:08:00.000</td><td>2022-10-02 02:21:00.000</td><td>2022-10-02 02:26:00.000</td><td>M8.7</td><td>None</td></tr>\n",
       "<tr><td>2022-10-02 05:18:00.000</td><td>2022-10-02 05:22:00.000</td><td>2022-10-02 05:31:00.000</td><td>C2.8</td><td>None</td></tr>\n",
       "<tr><td>...</td><td>...</td><td>...</td><td>...</td><td>...</td></tr>\n",
       "<tr><td>2022-10-11 18:04:00.000</td><td>2022-10-11 18:19:00.000</td><td>2022-10-11 18:24:00.000</td><td>C6.1</td><td>None</td></tr>\n",
       "<tr><td>2022-10-11 19:16:00.000</td><td>2022-10-11 19:31:00.000</td><td>2022-10-11 19:36:00.000</td><td>C2.9</td><td>None</td></tr>\n",
       "<tr><td>2022-10-11 20:36:00.000</td><td>2022-10-11 20:40:00.000</td><td>2022-10-11 20:45:00.000</td><td>C1.1</td><td>None</td></tr>\n",
       "<tr><td>2022-10-11 21:13:00.000</td><td>2022-10-11 21:21:00.000</td><td>2022-10-11 21:28:00.000</td><td>C3.9</td><td>None</td></tr>\n",
       "<tr><td>2022-10-12 08:46:00.000</td><td>2022-10-12 09:30:00.000</td><td>2022-10-12 10:12:00.000</td><td>C3.7</td><td>None</td></tr>\n",
       "<tr><td>2022-10-12 14:14:00.000</td><td>2022-10-12 14:18:00.000</td><td>2022-10-12 14:22:00.000</td><td>C8.8</td><td>None</td></tr>\n",
       "<tr><td>2022-10-12 16:26:00.000</td><td>2022-10-12 16:29:00.000</td><td>2022-10-12 16:33:00.000</td><td>C4.7</td><td>None</td></tr>\n",
       "<tr><td>2022-10-12 23:54:00.000</td><td>2022-10-13 00:19:00.000</td><td>2022-10-13 00:37:00.000</td><td>M1.5</td><td>None</td></tr>\n",
       "<tr><td>2022-10-13 01:48:00.000</td><td>2022-10-13 02:06:00.000</td><td>2022-10-13 02:22:00.000</td><td>C3.3</td><td>None</td></tr>\n",
       "<tr><td>2022-10-13 02:22:00.000</td><td>2022-10-13 02:25:00.000</td><td>2022-10-13 02:29:00.000</td><td>C3.8</td><td>None</td></tr>\n",
       "<tr><td>2022-10-13 04:38:00.000</td><td>2022-10-13 04:45:00.000</td><td>2022-10-13 04:53:00.000</td><td>C3.5</td><td>None</td></tr>\n",
       "<tr><td>2022-10-13 09:03:00.000</td><td>2022-10-13 09:17:00.000</td><td>2022-10-13 09:26:00.000</td><td>C4.7</td><td>None</td></tr>\n",
       "<tr><td>2022-10-13 17:18:00.000</td><td>2022-10-13 17:28:00.000</td><td>2022-10-13 17:36:00.000</td><td>C1.7</td><td>None</td></tr>\n",
       "<tr><td>2022-10-13 21:54:00.000</td><td>2022-10-13 22:07:00.000</td><td>2022-10-13 22:18:00.000</td><td>C2.2</td><td>None</td></tr>\n",
       "<tr><td>2022-10-14 09:20:00.000</td><td>2022-10-14 09:44:00.000</td><td>2022-10-14 09:51:00.000</td><td>M1.3</td><td>None</td></tr>\n",
       "</table></div>"
      ],
      "text/plain": [
       "<sunpy.net.hek.hek.HEKTable object at 0x155a2d3a0>\n",
       "    event_starttime          event_peaktime     ... fl_goescls fl_fluence\n",
       "----------------------- ----------------------- ... ---------- ----------\n",
       "2022-10-01 02:09:00.000 2022-10-01 02:18:00.000 ...       C2.9       None\n",
       "2022-10-01 03:55:00.000 2022-10-01 04:01:00.000 ...       C2.6       None\n",
       "2022-10-01 04:12:00.000 2022-10-01 04:17:00.000 ...       C3.8       None\n",
       "2022-10-01 04:42:00.000 2022-10-01 04:58:00.000 ...       C6.4       None\n",
       "2022-10-01 06:24:00.000 2022-10-01 06:30:00.000 ...       C2.3       None\n",
       "2022-10-01 07:07:00.000 2022-10-01 07:11:00.000 ...       C2.2       None\n",
       "2022-10-01 08:22:00.000 2022-10-01 08:31:00.000 ...       C3.8       None\n",
       "2022-10-01 11:34:00.000 2022-10-01 13:00:00.000 ...       C3.5       None\n",
       "2022-10-01 17:29:00.000 2022-10-01 17:41:00.000 ...       C3.4       None\n",
       "2022-10-01 17:58:00.000 2022-10-01 18:04:00.000 ...       C4.3       None\n",
       "2022-10-01 18:21:00.000 2022-10-01 18:27:00.000 ...       C2.4       None\n",
       "2022-10-01 19:58:00.000 2022-10-01 20:10:00.000 ...       M5.8       None\n",
       "2022-10-02 02:08:00.000 2022-10-02 02:21:00.000 ...       M8.7       None\n",
       "2022-10-02 05:18:00.000 2022-10-02 05:22:00.000 ...       C2.8       None\n",
       "2022-10-02 05:42:00.000 2022-10-02 06:21:00.000 ...       C4.1       None\n",
       "                    ...                     ... ...        ...        ...\n",
       "2022-10-11 18:04:00.000 2022-10-11 18:19:00.000 ...       C6.1       None\n",
       "2022-10-11 19:16:00.000 2022-10-11 19:31:00.000 ...       C2.9       None\n",
       "2022-10-11 20:36:00.000 2022-10-11 20:40:00.000 ...       C1.1       None\n",
       "2022-10-11 21:13:00.000 2022-10-11 21:21:00.000 ...       C3.9       None\n",
       "2022-10-12 08:46:00.000 2022-10-12 09:30:00.000 ...       C3.7       None\n",
       "2022-10-12 14:14:00.000 2022-10-12 14:18:00.000 ...       C8.8       None\n",
       "2022-10-12 16:26:00.000 2022-10-12 16:29:00.000 ...       C4.7       None\n",
       "2022-10-12 23:54:00.000 2022-10-13 00:19:00.000 ...       M1.5       None\n",
       "2022-10-13 01:48:00.000 2022-10-13 02:06:00.000 ...       C3.3       None\n",
       "2022-10-13 02:22:00.000 2022-10-13 02:25:00.000 ...       C3.8       None\n",
       "2022-10-13 04:38:00.000 2022-10-13 04:45:00.000 ...       C3.5       None\n",
       "2022-10-13 09:03:00.000 2022-10-13 09:17:00.000 ...       C4.7       None\n",
       "2022-10-13 17:18:00.000 2022-10-13 17:28:00.000 ...       C1.7       None\n",
       "2022-10-13 21:54:00.000 2022-10-13 22:07:00.000 ...       C2.2       None\n",
       "2022-10-14 09:20:00.000 2022-10-14 09:44:00.000 ...       M1.3       None\n",
       "Length = 122 rows"
      ]
     },
     "execution_count": 83,
     "metadata": {},
     "output_type": "execute_result"
    }
   ],
   "source": [
    "new_table"
   ]
  },
  {
   "cell_type": "code",
   "execution_count": 85,
   "id": "e5e4a789",
   "metadata": {},
   "outputs": [
    {
     "data": {
      "text/html": [
       "<div><i>HEKTable length=122</i>\n",
       "<table id=\"table5731678432\" class=\"table-striped table-bordered table-condensed\">\n",
       "<thead><tr><th>gs_thumburl</th><th>comment_count</th><th>hpc_bbox</th><th>frm_humanflag</th><th>hgc_coord</th><th>event_coordsys</th><th>obs_levelnum</th><th>hpc_coord</th><th>event_npixels</th><th>gs_imageurl</th><th>ar_polarity</th><th>frm_paramset</th><th>hrc_coord</th><th>event_starttime</th><th>ar_mtwilsoncls</th><th>event_type</th><th>intensmin</th><th>fl_fluence</th><th>obs_meanwavel</th><th>frm_url</th><th>skel_chaincode</th><th>bound_chaincode</th><th>noposition</th><th>fl_fluenceunit</th><th>active</th><th>intensmax</th><th>frm_versionnumber</th><th>fl_peaktempunit</th><th>fl_halphaclass</th><th>area_uncert</th><th>obs_dataprepurl</th><th>hpc_geom</th><th>hgc_bbox</th><th>intensmedian</th><th>chaincodetype</th><th>obs_channelid</th><th>event_clippedspatial</th><th>ar_noaaclass</th><th>SOL_standard</th><th>event_avg_rating</th><th>eventtype</th><th>intensunit</th><th>hpc_boundcc</th><th>event_mapurl</th><th>frm_contact</th><th>ar_penumbracls</th><th>intensmean</th><th>bound_ccstartc1</th><th>frm_name</th><th>area_atdiskcenter</th><th>frm_identifier</th><th>obs_observatory</th><th>event_description</th><th>boundbox_c2ur</th><th>obs_firstprocessingdate</th><th>boundbox_c2ll</th><th>frm_institute</th><th>hrc_bbox</th><th>refs_orig</th><th>ar_mcintoshcls</th><th>event_maskurl</th><th>bound_ccstartc2</th><th>gs_movieurl</th><th>event_score</th><th>skel_startc2</th><th>skel_startc1</th><th>fl_efoldtime</th><th>event_expires</th><th>fl_efoldtimeunit</th><th>hrc_boundcc</th><th>event_probability</th><th>intensvar</th><th>frm_daterun</th><th>event_coordunit</th><th>hpc_y</th><th>hpc_x</th><th>search_instrument</th><th>ar_numspots</th><th>kb_archivdate</th><th>kb_archivist</th><th>intenstotal</th><th>sum_overlap_scores</th><th>hgs_boundcc</th><th>intensskew</th><th>obs_includesnrt</th><th>rasterscan</th><th>obs_wavelunit</th><th>kb_archivid</th><th>search_frm_name</th><th>boundbox_c1ur</th><th>ar_noaanum</th><th>area_atdiskcenteruncert</th><th>boundbox_c1ll</th><th>event_importance_num_ratings</th><th>ar_compactnesscls</th><th>skel_curvature</th><th>event_testflag</th><th>event_c2error</th><th>hrc_r</th><th>skel_nsteps</th><th>hgs_y</th><th>obs_title</th><th>fl_peakemunit</th><th>hgs_x</th><th>hcr_checked</th><th>frm_specificid</th><th>event_title</th><th>obs_instrument</th><th>event_c1error</th><th>revision</th><th>hpc_radius</th><th>event_endtime</th><th>event_importance</th><th>event_coord2</th><th>event_coord3</th><th>event_coord1</th><th>search_observatory</th><th>area_raw</th><th>concept</th><th>event_pixelunit</th><th>hgc_boundcc</th><th>fl_peakflux</th><th>hgc_x</th><th>hrc_a</th><th>event_peaktime</th><th>hgc_y</th><th>gs_galleryid</th><th>fl_goescls</th><th>hgs_coord</th><th>ar_zurichcls</th><th>bound_ccnsteps</th><th>intenskurt</th><th>event_clippedtemporal</th><th>fl_peakfluxunit</th><th>fl_peakem</th><th>rasterscantype</th><th>search_channelid</th><th>fl_peaktemp</th><th>hgs_bbox</th><th>area_unit</th><th>obs_lastprocessingdate</th><th>refs</th></tr></thead>\n",
       "<thead><tr><th>str1</th><th>str1</th><th>str125</th><th>str5</th><th>str27</th><th>str12</th><th>object</th><th>str29</th><th>object</th><th>str1</th><th>object</th><th>str27</th><th>str41</th><th>Time</th><th>str1</th><th>str2</th><th>object</th><th>object</th><th>float64</th><th>str25</th><th>str1</th><th>str1</th><th>str5</th><th>str1</th><th>str4</th><th>object</th><th>object</th><th>str1</th><th>str1</th><th>object</th><th>str1</th><th>str186</th><th>str93</th><th>object</th><th>str1</th><th>str3</th><th>str1</th><th>str1</th><th>str30</th><th>object</th><th>str1</th><th>str1</th><th>str1</th><th>str1</th><th>str23</th><th>str1</th><th>object</th><th>object</th><th>str4</th><th>object</th><th>str4</th><th>str4</th><th>str1</th><th>float64</th><th>str1</th><th>float64</th><th>str61</th><th>str110</th><th>str1</th><th>str1</th><th>str1</th><th>object</th><th>str1</th><th>str20</th><th>object</th><th>object</th><th>object</th><th>str1</th><th>str1</th><th>str1</th><th>object</th><th>object</th><th>str19</th><th>str7</th><th>float64</th><th>float64</th><th>str4</th><th>object</th><th>str19</th><th>str19</th><th>object</th><th>str21</th><th>str1</th><th>object</th><th>str1</th><th>str1</th><th>str2</th><th>str66</th><th>str4</th><th>float64</th><th>int64</th><th>object</th><th>float64</th><th>str1</th><th>str1</th><th>object</th><th>str5</th><th>int64</th><th>float64</th><th>object</th><th>int64</th><th>str1</th><th>str1</th><th>int64</th><th>str4</th><th>str1</th><th>str1</th><th>str4</th><th>int64</th><th>str1</th><th>str19</th><th>Time</th><th>object</th><th>int64</th><th>object</th><th>int64</th><th>str4</th><th>object</th><th>str5</th><th>str1</th><th>str1</th><th>object</th><th>float64</th><th>float64</th><th>Time</th><th>int64</th><th>str1</th><th>str4</th><th>str13</th><th>str1</th><th>object</th><th>object</th><th>str1</th><th>str1</th><th>object</th><th>str1</th><th>str3</th><th>object</th><th>str66</th><th>str1</th><th>str1</th><th>object[1]</th></tr></thead>\n",
       "<tr><td></td><td>0</td><td>POLYGON((-1.670367 -950.5608,1.670367 -950.5608,1.67235 951.59484,-1.67235 951.59484,-1.670367 -950.5608))</td><td>false</td><td>POINT(136.66028 0)</td><td>UTC-HGS-TOPO</td><td>None</td><td>POINT(0 -112.723626)</td><td>None</td><td></td><td>None</td><td>SSWIDL get_gev, ..., ngdc=0</td><td>POINT(0.117705568323869 180)</td><td>2022-10-01 02:09:00.000</td><td></td><td>FL</td><td>None</td><td>None</td><td>5e-08</td><td>http://www.swpc.noaa.gov/</td><td></td><td></td><td>true</td><td></td><td>true</td><td>None</td><td>None</td><td></td><td></td><td>None</td><td></td><td></td><td>POLYGON((46.76028 -89.9,-133.43972 -89.9,-133.43972 89.9,46.76028 89.9,46.76028 -89.9))</td><td>None</td><td></td><td>XRA</td><td></td><td></td><td>SOL2022-10-01T02:09:00L136C090</td><td>None</td><td>9</td><td></td><td></td><td></td><td>SWPC.Webmaster@noaa.gov</td><td></td><td>None</td><td>None</td><td>SWPC</td><td>None</td><td>SWPC</td><td>GOES</td><td></td><td>89.9000015258789</td><td></td><td>-89.9000015258789</td><td>U.S. Dept. of Commerce, NOAA, Space Weather Prediction Center</td><td>POLYGON((0.992573 179.899317,0.992573 180.100683,0.993653 359.899307,0.993653 0.100693,0.992573 179.899317))</td><td></td><td></td><td></td><td>None</td><td></td><td>0.458000000000000018</td><td>None</td><td>None</td><td>None</td><td></td><td></td><td></td><td>None</td><td>None</td><td>2022-10-01T00:00:00</td><td>degrees</td><td>-112.723626</td><td>0.0</td><td>GOES</td><td>None</td><td>2022-10-02T06:58:10</td><td>autosubmission_swpc</td><td>None</td><td>0</td><td></td><td>None</td><td></td><td></td><td>cm</td><td>ivo://helio-informatics.org/FL_SWPC_20221002_065808_20221001020900</td><td>SWPC</td><td>89.9000015258789</td><td>0</td><td>None</td><td>-89.9000015258789</td><td></td><td></td><td>None</td><td>false</td><td>90</td><td>0.117705568323869</td><td>None</td><td>0</td><td></td><td></td><td>0</td><td>true</td><td></td><td></td><td>GOES</td><td>90</td><td>1</td><td>112.72362600000001</td><td>2022-10-01 02:23:00.000</td><td>None</td><td>0</td><td>None</td><td>0</td><td>GOES</td><td>None</td><td>Flare</td><td></td><td></td><td>None</td><td>136.66028</td><td>180.0</td><td>2022-10-01 02:18:00.000</td><td>0</td><td></td><td>C2.9</td><td>POINT(0 0)</td><td></td><td>None</td><td>None</td><td></td><td></td><td>None</td><td></td><td>XRA</td><td>None</td><td>POLYGON((-89.9 -89.9,89.9 -89.9,89.9 89.9,-89.9 89.9,-89.9 -89.9))</td><td></td><td></td><td>{&apos;ref_name&apos;: &apos;FRM_URL&apos;, &apos;ref_type&apos;: &apos;unknown&apos;, &apos;ref_url&apos;: &apos;http://www.swpc.noaa.gov/&apos;}</td></tr>\n",
       "<tr><td></td><td>0</td><td>POLYGON((-1.670403 -950.58816,1.670403 -950.58816,1.672386 951.62172,-1.672386 951.62172,-1.670403 -950.58816))</td><td>false</td><td>POINT(135.68893 0)</td><td>UTC-HGS-TOPO</td><td>None</td><td>POINT(0 -112.668984)</td><td>None</td><td></td><td>None</td><td>SSWIDL get_gev, ..., ngdc=0</td><td>POINT(0.117645986887121 180)</td><td>2022-10-01 03:55:00.000</td><td></td><td>FL</td><td>None</td><td>None</td><td>5e-08</td><td>http://www.swpc.noaa.gov/</td><td></td><td></td><td>true</td><td></td><td>true</td><td>None</td><td>None</td><td></td><td></td><td>None</td><td></td><td></td><td>POLYGON((45.78893 -89.9,-134.41107 -89.9,-134.41107 89.9,45.78893 89.9,45.78893 -89.9))</td><td>None</td><td></td><td>XRA</td><td></td><td></td><td>SOL2022-10-01T03:55:00L135C090</td><td>None</td><td>9</td><td></td><td></td><td></td><td>SWPC.Webmaster@noaa.gov</td><td></td><td>None</td><td>None</td><td>SWPC</td><td>None</td><td>SWPC</td><td>GOES</td><td></td><td>89.9000015258789</td><td></td><td>-89.9000015258789</td><td>U.S. Dept. of Commerce, NOAA, Space Weather Prediction Center</td><td>POLYGON((0.992581 179.899318,0.992581 180.100682,0.99366 359.899308,0.99366 0.100692,0.992581 179.899318))</td><td></td><td></td><td></td><td>None</td><td></td><td>0.452000000000000013</td><td>None</td><td>None</td><td>None</td><td></td><td></td><td></td><td>None</td><td>None</td><td>2022-10-01T00:00:00</td><td>degrees</td><td>-112.668984</td><td>0.0</td><td>GOES</td><td>None</td><td>2022-10-02T06:58:14</td><td>autosubmission_swpc</td><td>None</td><td>0</td><td></td><td>None</td><td></td><td></td><td>cm</td><td>ivo://helio-informatics.org/FL_SWPC_20221002_065811_20221001035500</td><td>SWPC</td><td>89.9000015258789</td><td>0</td><td>None</td><td>-89.9000015258789</td><td></td><td></td><td>None</td><td>false</td><td>90</td><td>0.117645986887121</td><td>None</td><td>0</td><td></td><td></td><td>0</td><td>true</td><td></td><td></td><td>GOES</td><td>90</td><td>1</td><td>112.668983999999995</td><td>2022-10-01 04:07:00.000</td><td>None</td><td>0</td><td>None</td><td>0</td><td>GOES</td><td>None</td><td>Flare</td><td></td><td></td><td>None</td><td>135.68893</td><td>180.0</td><td>2022-10-01 04:01:00.000</td><td>0</td><td></td><td>C2.6</td><td>POINT(0 0)</td><td></td><td>None</td><td>None</td><td></td><td></td><td>None</td><td></td><td>XRA</td><td>None</td><td>POLYGON((-89.9 -89.9,89.9 -89.9,89.9 89.9,-89.9 89.9,-89.9 -89.9))</td><td></td><td></td><td>{&apos;ref_name&apos;: &apos;FRM_URL&apos;, &apos;ref_type&apos;: &apos;unknown&apos;, &apos;ref_url&apos;: &apos;http://www.swpc.noaa.gov/&apos;}</td></tr>\n",
       "<tr><td></td><td>0</td><td>POLYGON((-1.670409 -950.59254,1.670409 -950.59254,1.672391 951.62604,-1.672391 951.62604,-1.670409 -950.59254))</td><td>false</td><td>POINT(135.53314 0)</td><td>UTC-HGS-TOPO</td><td>None</td><td>POINT(0 -112.6602)</td><td>None</td><td></td><td>None</td><td>SSWIDL get_gev, ..., ngdc=0</td><td>POINT(0.117636409517197 180)</td><td>2022-10-01 04:12:00.000</td><td></td><td>FL</td><td>None</td><td>None</td><td>5e-08</td><td>http://www.swpc.noaa.gov/</td><td></td><td></td><td>true</td><td></td><td>true</td><td>None</td><td>None</td><td></td><td></td><td>None</td><td></td><td></td><td>POLYGON((45.63314 -89.9,-134.56686 -89.9,-134.56686 89.9,45.63314 89.9,45.63314 -89.9))</td><td>None</td><td></td><td>XRA</td><td></td><td></td><td>SOL2022-10-01T04:12:00L135C090</td><td>None</td><td>9</td><td></td><td></td><td></td><td>SWPC.Webmaster@noaa.gov</td><td></td><td>None</td><td>None</td><td>SWPC</td><td>None</td><td>SWPC</td><td>GOES</td><td></td><td>89.9000015258789</td><td></td><td>-89.9000015258789</td><td>U.S. Dept. of Commerce, NOAA, Space Weather Prediction Center</td><td>POLYGON((0.992582 179.899318,0.992582 180.100682,0.993661 359.899308,0.993661 0.100692,0.992582 179.899318))</td><td></td><td></td><td></td><td>None</td><td></td><td>0.476000000000000034</td><td>None</td><td>None</td><td>None</td><td></td><td></td><td></td><td>None</td><td>None</td><td>2022-10-01T00:00:00</td><td>degrees</td><td>-112.6602</td><td>0.0</td><td>GOES</td><td>None</td><td>2022-10-02T06:58:17</td><td>autosubmission_swpc</td><td>None</td><td>0</td><td></td><td>None</td><td></td><td></td><td>cm</td><td>ivo://helio-informatics.org/FL_SWPC_20221002_065815_20221001041200</td><td>SWPC</td><td>89.9000015258789</td><td>0</td><td>None</td><td>-89.9000015258789</td><td></td><td></td><td>None</td><td>false</td><td>90</td><td>0.117636409517197</td><td>None</td><td>0</td><td></td><td></td><td>0</td><td>true</td><td></td><td></td><td>GOES</td><td>90</td><td>1</td><td>112.660200000000003</td><td>2022-10-01 04:39:00.000</td><td>None</td><td>0</td><td>None</td><td>0</td><td>GOES</td><td>None</td><td>Flare</td><td></td><td></td><td>None</td><td>135.53314</td><td>180.0</td><td>2022-10-01 04:17:00.000</td><td>0</td><td></td><td>C3.8</td><td>POINT(0 0)</td><td></td><td>None</td><td>None</td><td></td><td></td><td>None</td><td></td><td>XRA</td><td>None</td><td>POLYGON((-89.9 -89.9,89.9 -89.9,89.9 89.9,-89.9 89.9,-89.9 -89.9))</td><td></td><td></td><td>{&apos;ref_name&apos;: &apos;FRM_URL&apos;, &apos;ref_type&apos;: &apos;unknown&apos;, &apos;ref_url&apos;: &apos;http://www.swpc.noaa.gov/&apos;}</td></tr>\n",
       "<tr><td></td><td>0</td><td>POLYGON((-1.670419 -950.60028,1.670419 -950.60028,1.672401 951.6336,-1.672401 951.6336,-1.670419 -950.60028))</td><td>false</td><td>POINT(135.25823 0)</td><td>UTC-HGS-TOPO</td><td>None</td><td>POINT(0 -112.644696)</td><td>None</td><td></td><td>None</td><td>SSWIDL get_gev, ..., ngdc=0</td><td>POINT(0.117619507150538 180)</td><td>2022-10-01 04:42:00.000</td><td></td><td>FL</td><td>None</td><td>None</td><td>5e-08</td><td>http://www.swpc.noaa.gov/</td><td></td><td></td><td>true</td><td></td><td>true</td><td>None</td><td>None</td><td></td><td></td><td>None</td><td></td><td></td><td>POLYGON((45.35823 -89.9,-134.84177 -89.9,-134.84177 89.9,45.35823 89.9,45.35823 -89.9))</td><td>None</td><td></td><td>XRA</td><td></td><td></td><td>SOL2022-10-01T04:42:00L135C090</td><td>None</td><td>9</td><td></td><td></td><td></td><td>SWPC.Webmaster@noaa.gov</td><td></td><td>None</td><td>None</td><td>SWPC</td><td>None</td><td>SWPC</td><td>GOES</td><td></td><td>89.9000015258789</td><td></td><td>-89.9000015258789</td><td>U.S. Dept. of Commerce, NOAA, Space Weather Prediction Center</td><td>POLYGON((0.992584 179.899318,0.992584 180.100682,0.993663 359.899308,0.993663 0.100692,0.992584 179.899318))</td><td></td><td></td><td></td><td>None</td><td></td><td>0.528000000000000025</td><td>None</td><td>None</td><td>None</td><td></td><td></td><td></td><td>None</td><td>None</td><td>2022-10-01T00:00:00</td><td>degrees</td><td>-112.644696</td><td>0.0</td><td>GOES</td><td>None</td><td>2022-10-02T06:58:21</td><td>autosubmission_swpc</td><td>None</td><td>0</td><td></td><td>None</td><td></td><td></td><td>cm</td><td>ivo://helio-informatics.org/FL_SWPC_20221002_065818_20221001044200</td><td>SWPC</td><td>89.9000015258789</td><td>0</td><td>None</td><td>-89.9000015258789</td><td></td><td></td><td>None</td><td>false</td><td>90</td><td>0.117619507150538</td><td>None</td><td>0</td><td></td><td></td><td>0</td><td>true</td><td></td><td></td><td>GOES</td><td>90</td><td>1</td><td>112.64469600000001</td><td>2022-10-01 05:12:00.000</td><td>None</td><td>0</td><td>None</td><td>0</td><td>GOES</td><td>None</td><td>Flare</td><td></td><td></td><td>None</td><td>135.25823</td><td>180.0</td><td>2022-10-01 04:58:00.000</td><td>0</td><td></td><td>C6.4</td><td>POINT(0 0)</td><td></td><td>None</td><td>None</td><td></td><td></td><td>None</td><td></td><td>XRA</td><td>None</td><td>POLYGON((-89.9 -89.9,89.9 -89.9,89.9 89.9,-89.9 89.9,-89.9 -89.9))</td><td></td><td></td><td>{&apos;ref_name&apos;: &apos;FRM_URL&apos;, &apos;ref_type&apos;: &apos;unknown&apos;, &apos;ref_url&apos;: &apos;http://www.swpc.noaa.gov/&apos;}</td></tr>\n",
       "<tr><td></td><td>0</td><td>POLYGON((-1.670454 -950.62662,1.670454 -950.62662,1.672436 951.65952,-1.672436 951.65952,-1.670454 -950.62662))</td><td>false</td><td>POINT(134.32353 0)</td><td>UTC-HGS-TOPO</td><td>None</td><td>POINT(0 -112.59186)</td><td>None</td><td></td><td>None</td><td>SSWIDL get_gev, ..., ngdc=0</td><td>POINT(0.117561908415806 180)</td><td>2022-10-01 06:24:00.000</td><td></td><td>FL</td><td>None</td><td>None</td><td>5e-08</td><td>http://www.swpc.noaa.gov/</td><td></td><td></td><td>true</td><td></td><td>true</td><td>None</td><td>None</td><td></td><td></td><td>None</td><td></td><td></td><td>POLYGON((44.42353 -89.9,-135.77647 -89.9,-135.77647 89.9,44.42353 89.9,44.42353 -89.9))</td><td>None</td><td></td><td>XRA</td><td></td><td></td><td>SOL2022-10-01T06:24:00L134C090</td><td>None</td><td>9</td><td></td><td></td><td></td><td>SWPC.Webmaster@noaa.gov</td><td></td><td>None</td><td>None</td><td>SWPC</td><td>None</td><td>SWPC</td><td>GOES</td><td></td><td>89.9000015258789</td><td></td><td>-89.9000015258789</td><td>U.S. Dept. of Commerce, NOAA, Space Weather Prediction Center</td><td>POLYGON((0.992591 179.899319,0.992591 180.100681,0.993669 359.899309,0.993669 0.100691,0.992591 179.899319))</td><td></td><td></td><td></td><td>None</td><td></td><td>0.446000000000000008</td><td>None</td><td>None</td><td>None</td><td></td><td></td><td></td><td>None</td><td>None</td><td>2022-10-01T00:00:00</td><td>degrees</td><td>-112.59186</td><td>0.0</td><td>GOES</td><td>None</td><td>2022-10-02T06:58:25</td><td>autosubmission_swpc</td><td>None</td><td>0</td><td></td><td>None</td><td></td><td></td><td>cm</td><td>ivo://helio-informatics.org/FL_SWPC_20221002_065822_20221001062400</td><td>SWPC</td><td>89.9000015258789</td><td>0</td><td>None</td><td>-89.9000015258789</td><td></td><td></td><td>None</td><td>false</td><td>90</td><td>0.117561908415806</td><td>None</td><td>0</td><td></td><td></td><td>0</td><td>true</td><td></td><td></td><td>GOES</td><td>90</td><td>1</td><td>112.591859999999997</td><td>2022-10-01 06:34:00.000</td><td>None</td><td>0</td><td>None</td><td>0</td><td>GOES</td><td>None</td><td>Flare</td><td></td><td></td><td>None</td><td>134.32353</td><td>180.0</td><td>2022-10-01 06:30:00.000</td><td>0</td><td></td><td>C2.3</td><td>POINT(0 0)</td><td></td><td>None</td><td>None</td><td></td><td></td><td>None</td><td></td><td>XRA</td><td>None</td><td>POLYGON((-89.9 -89.9,89.9 -89.9,89.9 89.9,-89.9 89.9,-89.9 -89.9))</td><td></td><td></td><td>{&apos;ref_name&apos;: &apos;FRM_URL&apos;, &apos;ref_type&apos;: &apos;unknown&apos;, &apos;ref_url&apos;: &apos;http://www.swpc.noaa.gov/&apos;}</td></tr>\n",
       "<tr><td></td><td>0</td><td>POLYGON((-1.670469 -950.63772,1.670469 -950.63772,1.67245 951.67044,-1.67245 951.67044,-1.670469 -950.63772))</td><td>false</td><td>POINT(133.9295 0)</td><td>UTC-HGS-TOPO</td><td>None</td><td>POINT(0 -112.569534)</td><td>None</td><td></td><td>None</td><td>SSWIDL get_gev, ..., ngdc=0</td><td>POINT(0.11753757336353 180)</td><td>2022-10-01 07:07:00.000</td><td></td><td>FL</td><td>None</td><td>None</td><td>5e-08</td><td>http://www.swpc.noaa.gov/</td><td></td><td></td><td>true</td><td></td><td>true</td><td>None</td><td>None</td><td></td><td></td><td>None</td><td></td><td></td><td>POLYGON((44.0295 -89.9,-136.1705 -89.9,-136.1705 89.9,44.0295 89.9,44.0295 -89.9))</td><td>None</td><td></td><td>XRA</td><td></td><td></td><td>SOL2022-10-01T07:07:00L133C090</td><td>None</td><td>9</td><td></td><td></td><td></td><td>SWPC.Webmaster@noaa.gov</td><td></td><td>None</td><td>None</td><td>SWPC</td><td>None</td><td>SWPC</td><td>GOES</td><td></td><td>89.9000015258789</td><td></td><td>-89.9000015258789</td><td>U.S. Dept. of Commerce, NOAA, Space Weather Prediction Center</td><td>POLYGON((0.992594 179.899319,0.992594 180.100681,0.993672 359.899309,0.993672 0.100691,0.992594 179.899319))</td><td></td><td></td><td></td><td>None</td><td></td><td>0.444000000000000006</td><td>None</td><td>None</td><td>None</td><td></td><td></td><td></td><td>None</td><td>None</td><td>2022-10-01T00:00:00</td><td>degrees</td><td>-112.569534</td><td>0.0</td><td>GOES</td><td>None</td><td>2022-10-02T06:58:28</td><td>autosubmission_swpc</td><td>None</td><td>0</td><td></td><td>None</td><td></td><td></td><td>cm</td><td>ivo://helio-informatics.org/FL_SWPC_20221002_065826_20221001070700</td><td>SWPC</td><td>89.9000015258789</td><td>0</td><td>None</td><td>-89.9000015258789</td><td></td><td></td><td>None</td><td>false</td><td>90</td><td>0.11753757336353</td><td>None</td><td>0</td><td></td><td></td><td>0</td><td>true</td><td></td><td></td><td>GOES</td><td>90</td><td>1</td><td>112.569534000000004</td><td>2022-10-01 07:19:00.000</td><td>None</td><td>0</td><td>None</td><td>0</td><td>GOES</td><td>None</td><td>Flare</td><td></td><td></td><td>None</td><td>133.9295</td><td>180.0</td><td>2022-10-01 07:11:00.000</td><td>0</td><td></td><td>C2.2</td><td>POINT(0 0)</td><td></td><td>None</td><td>None</td><td></td><td></td><td>None</td><td></td><td>XRA</td><td>None</td><td>POLYGON((-89.9 -89.9,89.9 -89.9,89.9 89.9,-89.9 89.9,-89.9 -89.9))</td><td></td><td></td><td>{&apos;ref_name&apos;: &apos;FRM_URL&apos;, &apos;ref_type&apos;: &apos;unknown&apos;, &apos;ref_url&apos;: &apos;http://www.swpc.noaa.gov/&apos;}</td></tr>\n",
       "<tr><td></td><td>0</td><td>POLYGON((-1.670494 -950.6571,1.670494 -950.6571,1.672475 951.68946,-1.672475 951.68946,-1.670494 -950.6571))</td><td>false</td><td>POINT(133.24222 0)</td><td>UTC-HGS-TOPO</td><td>None</td><td>POINT(0 -112.530528)</td><td>None</td><td></td><td>None</td><td>SSWIDL get_gev, ..., ngdc=0</td><td>POINT(0.117495060907951 180)</td><td>2022-10-01 08:22:00.000</td><td></td><td>FL</td><td>None</td><td>None</td><td>5e-08</td><td>http://www.swpc.noaa.gov/</td><td></td><td></td><td>true</td><td></td><td>true</td><td>None</td><td>None</td><td></td><td></td><td>None</td><td></td><td></td><td>POLYGON((43.34222 -89.9,-136.85778 -89.9,-136.85778 89.9,43.34222 89.9,43.34222 -89.9))</td><td>None</td><td></td><td>XRA</td><td></td><td></td><td>SOL2022-10-01T08:22:00L133C090</td><td>None</td><td>9</td><td></td><td></td><td></td><td>SWPC.Webmaster@noaa.gov</td><td></td><td>None</td><td>None</td><td>SWPC</td><td>None</td><td>SWPC</td><td>GOES</td><td></td><td>89.9000015258789</td><td></td><td>-89.9000015258789</td><td>U.S. Dept. of Commerce, NOAA, Space Weather Prediction Center</td><td>POLYGON((0.992599 179.89932,0.992599 180.10068,0.993677 359.89931,0.993677 0.10069,0.992599 179.89932))</td><td></td><td></td><td></td><td>None</td><td></td><td>0.476000000000000034</td><td>None</td><td>None</td><td>None</td><td></td><td></td><td></td><td>None</td><td>None</td><td>2022-10-01T00:00:00</td><td>degrees</td><td>-112.530528</td><td>0.0</td><td>GOES</td><td>None</td><td>2022-10-02T06:58:32</td><td>autosubmission_swpc</td><td>None</td><td>0</td><td></td><td>None</td><td></td><td></td><td>cm</td><td>ivo://helio-informatics.org/FL_SWPC_20221002_065829_20221001082200</td><td>SWPC</td><td>89.9000015258789</td><td>0</td><td>None</td><td>-89.9000015258789</td><td></td><td></td><td>None</td><td>false</td><td>90</td><td>0.117495060907951</td><td>None</td><td>0</td><td></td><td></td><td>0</td><td>true</td><td></td><td></td><td>GOES</td><td>90</td><td>1</td><td>112.530528000000004</td><td>2022-10-01 08:36:00.000</td><td>None</td><td>0</td><td>None</td><td>0</td><td>GOES</td><td>None</td><td>Flare</td><td></td><td></td><td>None</td><td>133.24222</td><td>180.0</td><td>2022-10-01 08:31:00.000</td><td>0</td><td></td><td>C3.8</td><td>POINT(0 0)</td><td></td><td>None</td><td>None</td><td></td><td></td><td>None</td><td></td><td>XRA</td><td>None</td><td>POLYGON((-89.9 -89.9,89.9 -89.9,89.9 89.9,-89.9 89.9,-89.9 -89.9))</td><td></td><td></td><td>{&apos;ref_name&apos;: &apos;FRM_URL&apos;, &apos;ref_type&apos;: &apos;unknown&apos;, &apos;ref_url&apos;: &apos;http://www.swpc.noaa.gov/&apos;}</td></tr>\n",
       "<tr><td></td><td>0</td><td>POLYGON((-1.67056 -950.70684,1.67056 -950.70684,1.672539 951.7383,-1.672539 951.7383,-1.67056 -950.70684))</td><td>false</td><td>POINT(131.4828 0)</td><td>UTC-HGS-TOPO</td><td>None</td><td>POINT(0 -112.430244)</td><td>None</td><td></td><td>None</td><td>SSWIDL get_gev, ..., ngdc=0</td><td>POINT(0.117385785903701 180)</td><td>2022-10-01 11:34:00.000</td><td></td><td>FL</td><td>None</td><td>None</td><td>5e-08</td><td>http://www.swpc.noaa.gov/</td><td></td><td></td><td>true</td><td></td><td>true</td><td>None</td><td>None</td><td></td><td></td><td>None</td><td></td><td></td><td>POLYGON((41.5828 -89.9,-138.6172 -89.9,-138.6172 89.9,41.5828 89.9,41.5828 -89.9))</td><td>None</td><td></td><td>XRA</td><td></td><td></td><td>SOL2022-10-01T11:34:00L131C090</td><td>None</td><td>9</td><td></td><td></td><td></td><td>SWPC.Webmaster@noaa.gov</td><td></td><td>None</td><td>None</td><td>SWPC</td><td>None</td><td>SWPC</td><td>GOES</td><td></td><td>89.9000015258789</td><td></td><td>-89.9000015258789</td><td>U.S. Dept. of Commerce, NOAA, Space Weather Prediction Center</td><td>POLYGON((0.992612 179.899321,0.992612 180.100679,0.993689 359.899311,0.993689 0.100689,0.992612 179.899321))</td><td></td><td></td><td></td><td>None</td><td></td><td>0.470000000000000029</td><td>None</td><td>None</td><td>None</td><td></td><td></td><td></td><td>None</td><td>None</td><td>2022-10-01T00:00:00</td><td>degrees</td><td>-112.430244</td><td>0.0</td><td>GOES</td><td>None</td><td>2022-10-02T06:58:35</td><td>autosubmission_swpc</td><td>None</td><td>0</td><td></td><td>None</td><td></td><td></td><td>cm</td><td>ivo://helio-informatics.org/FL_SWPC_20221002_065833_20221001113400</td><td>SWPC</td><td>89.9000015258789</td><td>0</td><td>None</td><td>-89.9000015258789</td><td></td><td></td><td>None</td><td>false</td><td>90</td><td>0.117385785903701</td><td>None</td><td>0</td><td></td><td></td><td>0</td><td>true</td><td></td><td></td><td>GOES</td><td>90</td><td>1</td><td>112.430244000000002</td><td>2022-10-01 13:22:00.000</td><td>None</td><td>0</td><td>None</td><td>0</td><td>GOES</td><td>None</td><td>Flare</td><td></td><td></td><td>None</td><td>131.4828</td><td>180.0</td><td>2022-10-01 13:00:00.000</td><td>0</td><td></td><td>C3.5</td><td>POINT(0 0)</td><td></td><td>None</td><td>None</td><td></td><td></td><td>None</td><td></td><td>XRA</td><td>None</td><td>POLYGON((-89.9 -89.9,89.9 -89.9,89.9 89.9,-89.9 89.9,-89.9 -89.9))</td><td></td><td></td><td>{&apos;ref_name&apos;: &apos;FRM_URL&apos;, &apos;ref_type&apos;: &apos;unknown&apos;, &apos;ref_url&apos;: &apos;http://www.swpc.noaa.gov/&apos;}</td></tr>\n",
       "<tr><td></td><td>0</td><td>POLYGON((-1.670682 -950.79894,1.670682 -950.79894,1.672658 951.82884,-1.672658 951.82884,-1.670682 -950.79894))</td><td>false</td><td>POINT(128.22972 0)</td><td>UTC-HGS-TOPO</td><td>None</td><td>POINT(0 -112.243242)</td><td>None</td><td></td><td>None</td><td>SSWIDL get_gev, ..., ngdc=0</td><td>POINT(0.117182106884283 180)</td><td>2022-10-01 17:29:00.000</td><td></td><td>FL</td><td>None</td><td>None</td><td>5e-08</td><td>http://www.swpc.noaa.gov/</td><td></td><td></td><td>true</td><td></td><td>true</td><td>None</td><td>None</td><td></td><td></td><td>None</td><td></td><td></td><td>POLYGON((38.32972 -89.9,-141.87028 -89.9,-141.87028 89.9,38.32972 89.9,38.32972 -89.9))</td><td>None</td><td></td><td>XRA</td><td></td><td></td><td>SOL2022-10-01T17:29:00L128C090</td><td>None</td><td>9</td><td></td><td></td><td></td><td>SWPC.Webmaster@noaa.gov</td><td></td><td>None</td><td>None</td><td>SWPC</td><td>None</td><td>SWPC</td><td>GOES</td><td></td><td>89.9000015258789</td><td></td><td>-89.9000015258789</td><td>U.S. Dept. of Commerce, NOAA, Space Weather Prediction Center</td><td>POLYGON((0.992637 179.899324,0.992637 180.100676,0.993712 359.899314,0.993712 0.100686,0.992637 179.899324))</td><td></td><td></td><td></td><td>None</td><td></td><td>0.468000000000000027</td><td>None</td><td>None</td><td>None</td><td></td><td></td><td></td><td>None</td><td>None</td><td>2022-10-01T00:00:00</td><td>degrees</td><td>-112.243242</td><td>0.0</td><td>GOES</td><td>None</td><td>2022-10-02T06:58:39</td><td>autosubmission_swpc</td><td>None</td><td>0</td><td></td><td>None</td><td></td><td></td><td>cm</td><td>ivo://helio-informatics.org/FL_SWPC_20221002_065836_20221001172900</td><td>SWPC</td><td>89.9000015258789</td><td>0</td><td>None</td><td>-89.9000015258789</td><td></td><td></td><td>None</td><td>false</td><td>90</td><td>0.117182106884283</td><td>None</td><td>0</td><td></td><td></td><td>0</td><td>true</td><td></td><td></td><td>GOES</td><td>90</td><td>1</td><td>112.243241999999995</td><td>2022-10-01 17:46:00.000</td><td>None</td><td>0</td><td>None</td><td>0</td><td>GOES</td><td>None</td><td>Flare</td><td></td><td></td><td>None</td><td>128.22972</td><td>180.0</td><td>2022-10-01 17:41:00.000</td><td>0</td><td></td><td>C3.4</td><td>POINT(0 0)</td><td></td><td>None</td><td>None</td><td></td><td></td><td>None</td><td></td><td>XRA</td><td>None</td><td>POLYGON((-89.9 -89.9,89.9 -89.9,89.9 89.9,-89.9 89.9,-89.9 -89.9))</td><td></td><td></td><td>{&apos;ref_name&apos;: &apos;FRM_URL&apos;, &apos;ref_type&apos;: &apos;unknown&apos;, &apos;ref_url&apos;: &apos;http://www.swpc.noaa.gov/&apos;}</td></tr>\n",
       "<tr><td></td><td>0</td><td>POLYGON((-1.670692 -950.8065,1.670692 -950.8065,1.672668 951.83622,-1.672668 951.83622,-1.670692 -950.8065))</td><td>false</td><td>POINT(127.96398 0)</td><td>UTC-HGS-TOPO</td><td>None</td><td>POINT(0 -112.227876)</td><td>None</td><td></td><td>None</td><td>SSWIDL get_gev, ..., ngdc=0</td><td>POINT(0.117165374868645 180)</td><td>2022-10-01 17:58:00.000</td><td></td><td>FL</td><td>None</td><td>None</td><td>5e-08</td><td>http://www.swpc.noaa.gov/</td><td></td><td></td><td>true</td><td></td><td>true</td><td>None</td><td>None</td><td></td><td></td><td>None</td><td></td><td></td><td>POLYGON((38.06398 -89.9,-142.13602 -89.9,-142.13602 89.9,38.06398 89.9,38.06398 -89.9))</td><td>None</td><td></td><td>XRA</td><td></td><td></td><td>SOL2022-10-01T17:58:00L127C090</td><td>None</td><td>9</td><td></td><td></td><td></td><td>SWPC.Webmaster@noaa.gov</td><td></td><td>None</td><td>None</td><td>SWPC</td><td>None</td><td>SWPC</td><td>GOES</td><td></td><td>89.9000015258789</td><td></td><td>-89.9000015258789</td><td>U.S. Dept. of Commerce, NOAA, Space Weather Prediction Center</td><td>POLYGON((0.992639 179.899324,0.992639 180.100676,0.993714 359.899314,0.993714 0.100686,0.992639 179.899324))</td><td></td><td></td><td></td><td>None</td><td></td><td>0.485999999999999988</td><td>None</td><td>None</td><td>None</td><td></td><td></td><td></td><td>None</td><td>None</td><td>2022-10-01T00:00:00</td><td>degrees</td><td>-112.227876</td><td>0.0</td><td>GOES</td><td>None</td><td>2022-10-02T06:58:42</td><td>autosubmission_swpc</td><td>None</td><td>0</td><td></td><td>None</td><td></td><td></td><td>cm</td><td>ivo://helio-informatics.org/FL_SWPC_20221002_065840_20221001175800</td><td>SWPC</td><td>89.9000015258789</td><td>0</td><td>None</td><td>-89.9000015258789</td><td></td><td></td><td>None</td><td>false</td><td>90</td><td>0.117165374868645</td><td>None</td><td>0</td><td></td><td></td><td>0</td><td>true</td><td></td><td></td><td>GOES</td><td>90</td><td>1</td><td>112.227876000000009</td><td>2022-10-01 18:08:00.000</td><td>None</td><td>0</td><td>None</td><td>0</td><td>GOES</td><td>None</td><td>Flare</td><td></td><td></td><td>None</td><td>127.96398</td><td>180.0</td><td>2022-10-01 18:04:00.000</td><td>0</td><td></td><td>C4.3</td><td>POINT(0 0)</td><td></td><td>None</td><td>None</td><td></td><td></td><td>None</td><td></td><td>XRA</td><td>None</td><td>POLYGON((-89.9 -89.9,89.9 -89.9,89.9 89.9,-89.9 89.9,-89.9 -89.9))</td><td></td><td></td><td>{&apos;ref_name&apos;: &apos;FRM_URL&apos;, &apos;ref_type&apos;: &apos;unknown&apos;, &apos;ref_url&apos;: &apos;http://www.swpc.noaa.gov/&apos;}</td></tr>\n",
       "<tr><td></td><td>0</td><td>POLYGON((-1.6707 -950.81244,1.6707 -950.81244,1.672676 951.8421,-1.672676 951.8421,-1.6707 -950.81244))</td><td>false</td><td>POINT(127.75321 0)</td><td>UTC-HGS-TOPO</td><td>None</td><td>POINT(0 -112.215678)</td><td>None</td><td></td><td>None</td><td>SSWIDL get_gev, ..., ngdc=0</td><td>POINT(0.117152093505128 180)</td><td>2022-10-01 18:21:00.000</td><td></td><td>FL</td><td>None</td><td>None</td><td>5e-08</td><td>http://www.swpc.noaa.gov/</td><td></td><td></td><td>true</td><td></td><td>true</td><td>None</td><td>None</td><td></td><td></td><td>None</td><td></td><td></td><td>POLYGON((37.85321 -89.9,-142.34679 -89.9,-142.34679 89.9,37.85321 89.9,37.85321 -89.9))</td><td>None</td><td></td><td>XRA</td><td></td><td></td><td>SOL2022-10-01T18:21:00L127C090</td><td>None</td><td>9</td><td></td><td></td><td></td><td>SWPC.Webmaster@noaa.gov</td><td></td><td>None</td><td>None</td><td>SWPC</td><td>None</td><td>SWPC</td><td>GOES</td><td></td><td>89.9000015258789</td><td></td><td>-89.9000015258789</td><td>U.S. Dept. of Commerce, NOAA, Space Weather Prediction Center</td><td>POLYGON((0.992641 179.899324,0.992641 180.100676,0.993716 359.899314,0.993716 0.100686,0.992641 179.899324))</td><td></td><td></td><td></td><td>None</td><td></td><td>0.448000000000000009</td><td>None</td><td>None</td><td>None</td><td></td><td></td><td></td><td>None</td><td>None</td><td>2022-10-01T00:00:00</td><td>degrees</td><td>-112.215678</td><td>0.0</td><td>GOES</td><td>None</td><td>2022-10-02T06:58:46</td><td>autosubmission_swpc</td><td>None</td><td>0</td><td></td><td>None</td><td></td><td></td><td>cm</td><td>ivo://helio-informatics.org/FL_SWPC_20221002_065844_20221001182100</td><td>SWPC</td><td>89.9000015258789</td><td>0</td><td>None</td><td>-89.9000015258789</td><td></td><td></td><td>None</td><td>false</td><td>90</td><td>0.117152093505128</td><td>None</td><td>0</td><td></td><td></td><td>0</td><td>true</td><td></td><td></td><td>GOES</td><td>90</td><td>1</td><td>112.215677999999997</td><td>2022-10-01 18:36:00.000</td><td>None</td><td>0</td><td>None</td><td>0</td><td>GOES</td><td>None</td><td>Flare</td><td></td><td></td><td>None</td><td>127.75321</td><td>180.0</td><td>2022-10-01 18:27:00.000</td><td>0</td><td></td><td>C2.4</td><td>POINT(0 0)</td><td></td><td>None</td><td>None</td><td></td><td></td><td>None</td><td></td><td>XRA</td><td>None</td><td>POLYGON((-89.9 -89.9,89.9 -89.9,89.9 89.9,-89.9 89.9,-89.9 -89.9))</td><td></td><td></td><td>{&apos;ref_name&apos;: &apos;FRM_URL&apos;, &apos;ref_type&apos;: &apos;unknown&apos;, &apos;ref_url&apos;: &apos;http://www.swpc.noaa.gov/&apos;}</td></tr>\n",
       "<tr><td></td><td>0</td><td>POLYGON((-1.670733 -950.8377,1.670733 -950.8377,1.672708 951.86688,-1.672708 951.86688,-1.670733 -950.8377))</td><td>false</td><td>POINT(126.86435 0)</td><td>UTC-HGS-TOPO</td><td>None</td><td>POINT(0 -112.164144)</td><td>None</td><td></td><td>None</td><td>SSWIDL get_gev, ..., ngdc=0</td><td>POINT(0.117095988144845 180)</td><td>2022-10-01 19:58:00.000</td><td></td><td>FL</td><td>None</td><td>None</td><td>5e-08</td><td>http://www.swpc.noaa.gov/</td><td></td><td></td><td>true</td><td></td><td>true</td><td>None</td><td>None</td><td></td><td></td><td>None</td><td></td><td></td><td>POLYGON((36.96435 -89.9,-143.23565 -89.9,-143.23565 89.9,36.96435 89.9,36.96435 -89.9))</td><td>None</td><td></td><td>XRA</td><td></td><td></td><td>SOL2022-10-01T19:58:00L126C090</td><td>None</td><td>9</td><td></td><td></td><td></td><td>SWPC.Webmaster@noaa.gov</td><td></td><td>None</td><td>None</td><td>SWPC</td><td>None</td><td>SWPC</td><td>GOES</td><td></td><td>89.9000015258789</td><td></td><td>-89.9000015258789</td><td>U.S. Dept. of Commerce, NOAA, Space Weather Prediction Center</td><td>POLYGON((0.992647 179.899325,0.992647 180.100675,0.993722 359.899315,0.993722 0.100685,0.992647 179.899325))</td><td></td><td></td><td></td><td>None</td><td></td><td>0.71599999999999997</td><td>None</td><td>None</td><td>None</td><td></td><td></td><td></td><td>None</td><td>None</td><td>2022-10-01T00:00:00</td><td>degrees</td><td>-112.164144</td><td>0.0</td><td>GOES</td><td>None</td><td>2022-10-02T06:58:49</td><td>autosubmission_swpc</td><td>None</td><td>0</td><td></td><td>None</td><td></td><td></td><td>cm</td><td>ivo://helio-informatics.org/FL_SWPC_20221002_065847_20221001195800</td><td>SWPC</td><td>89.9000015258789</td><td>0</td><td>None</td><td>-89.9000015258789</td><td></td><td></td><td>None</td><td>false</td><td>90</td><td>0.117095988144845</td><td>None</td><td>0</td><td></td><td></td><td>0</td><td>true</td><td></td><td></td><td>GOES</td><td>90</td><td>1</td><td>112.164144000000007</td><td>2022-10-01 20:16:00.000</td><td>None</td><td>0</td><td>None</td><td>0</td><td>GOES</td><td>None</td><td>Flare</td><td></td><td></td><td>None</td><td>126.86435</td><td>180.0</td><td>2022-10-01 20:10:00.000</td><td>0</td><td></td><td>M5.8</td><td>POINT(0 0)</td><td></td><td>None</td><td>None</td><td></td><td></td><td>None</td><td></td><td>XRA</td><td>None</td><td>POLYGON((-89.9 -89.9,89.9 -89.9,89.9 89.9,-89.9 89.9,-89.9 -89.9))</td><td></td><td></td><td>{&apos;ref_name&apos;: &apos;FRM_URL&apos;, &apos;ref_type&apos;: &apos;unknown&apos;, &apos;ref_url&apos;: &apos;http://www.swpc.noaa.gov/&apos;}</td></tr>\n",
       "<tr><td></td><td>0</td><td>POLYGON((-1.67086 -950.93406,1.67086 -950.93406,1.672832 951.96156,-1.672832 951.96156,-1.67086 -950.93406))</td><td>false</td><td>POINT(123.47385 0)</td><td>UTC-HGS-TOPO</td><td>None</td><td>POINT(0 -111.966156)</td><td>None</td><td></td><td>None</td><td>SSWIDL get_gev, ..., ngdc=0</td><td>POINT(0.116880516535878 180)</td><td>2022-10-02 02:08:00.000</td><td></td><td>FL</td><td>None</td><td>None</td><td>5e-08</td><td>http://www.swpc.noaa.gov/</td><td></td><td></td><td>true</td><td></td><td>true</td><td>None</td><td>None</td><td></td><td></td><td>None</td><td></td><td></td><td>POLYGON((33.57385 -89.9,-146.62615 -89.9,-146.62615 89.9,33.57385 89.9,33.57385 -89.9))</td><td>None</td><td></td><td>XRA</td><td></td><td></td><td>SOL2022-10-02T02:08:00L123C090</td><td>None</td><td>9</td><td></td><td></td><td></td><td>SWPC.Webmaster@noaa.gov</td><td></td><td>None</td><td>None</td><td>SWPC</td><td>None</td><td>SWPC</td><td>GOES</td><td></td><td>89.9000015258789</td><td></td><td>-89.9000015258789</td><td>U.S. Dept. of Commerce, NOAA, Space Weather Prediction Center</td><td>POLYGON((0.992673 179.899327,0.992673 180.100673,0.993746 359.899317,0.993746 0.100683,0.992673 179.899327))</td><td></td><td></td><td></td><td>None</td><td></td><td>0.774000000000000021</td><td>None</td><td>None</td><td>None</td><td></td><td></td><td></td><td>None</td><td>None</td><td>2022-10-02T00:00:00</td><td>degrees</td><td>-111.966156</td><td>0.0</td><td>GOES</td><td>None</td><td>2022-10-02T06:58:53</td><td>autosubmission_swpc</td><td>None</td><td>0</td><td></td><td>None</td><td></td><td></td><td>cm</td><td>ivo://helio-informatics.org/FL_SWPC_20221002_065851_20221002020800</td><td>SWPC</td><td>89.9000015258789</td><td>0</td><td>None</td><td>-89.9000015258789</td><td></td><td></td><td>None</td><td>false</td><td>90</td><td>0.116880516535878</td><td>None</td><td>0</td><td></td><td></td><td>0</td><td>true</td><td></td><td></td><td>GOES</td><td>90</td><td>1</td><td>111.966155999999998</td><td>2022-10-02 02:26:00.000</td><td>None</td><td>0</td><td>None</td><td>0</td><td>GOES</td><td>None</td><td>Flare</td><td></td><td></td><td>None</td><td>123.47385</td><td>180.0</td><td>2022-10-02 02:21:00.000</td><td>0</td><td></td><td>M8.7</td><td>POINT(0 0)</td><td></td><td>None</td><td>None</td><td></td><td></td><td>None</td><td></td><td>XRA</td><td>None</td><td>POLYGON((-89.9 -89.9,89.9 -89.9,89.9 89.9,-89.9 89.9,-89.9 -89.9))</td><td></td><td></td><td>{&apos;ref_name&apos;: &apos;FRM_URL&apos;, &apos;ref_type&apos;: &apos;unknown&apos;, &apos;ref_url&apos;: &apos;http://www.swpc.noaa.gov/&apos;}</td></tr>\n",
       "<tr><td></td><td>0</td><td>POLYGON((583.231554 204.909882,595.461024 206.095278,592.087782 222.400782,579.92742 221.222904,583.231554 204.909882))</td><td>false</td><td>POINT(161.73279 18)</td><td>UTC-HGS-TOPO</td><td>None</td><td>POINT(587.721996 213.662358)</td><td>None</td><td></td><td>None</td><td>SSWIDL get_gev, ..., ngdc=0</td><td>POINT(0.652777465186566 289.978393868834)</td><td>2022-10-02 05:18:00.000</td><td></td><td>FL</td><td>None</td><td>None</td><td>5e-08</td><td>http://www.swpc.noaa.gov/</td><td></td><td></td><td>false</td><td></td><td>true</td><td>None</td><td>None</td><td></td><td></td><td>None</td><td></td><td>01030000000100000005000000BEBED6A5C65D8140CF87670932B56640BEBED6A5C65D8140CF87670932B56E40BEBED6A5C65D8340CF87670932B56E40BEBED6A5C65D8340CF87670932B56640BEBED6A5C65D8140CF87670932B56640</td><td>POLYGON((161.23279 17.5,162.23279 17.5,162.23279 18.5,161.23279 18.5,161.23279 17.5))</td><td>None</td><td></td><td>XRA</td><td></td><td></td><td>SOL2022-10-02T05:18:00L161C072</td><td>None</td><td>9</td><td></td><td></td><td></td><td>SWPC.Webmaster@noaa.gov</td><td></td><td>None</td><td>None</td><td>SWPC</td><td>None</td><td>SWPC</td><td>GOES</td><td></td><td>18.5</td><td></td><td>17.5</td><td>U.S. Dept. of Commerce, NOAA, Space Weather Prediction Center</td><td>POLYGON((0.645288 289.35818,0.65775 289.091271,0.660214 290.587248,0.647907 290.880179,0.645288 289.35818))</td><td></td><td></td><td></td><td>None</td><td></td><td>0.456000000000000016</td><td>None</td><td>None</td><td>None</td><td></td><td></td><td></td><td>None</td><td>None</td><td>2022-10-02T00:00:00</td><td>degrees</td><td>213.662358</td><td>587.721996</td><td>GOES</td><td>None</td><td>2022-10-02T08:53:27</td><td>autosubmission_swpc</td><td>None</td><td>0</td><td></td><td>None</td><td></td><td></td><td>cm</td><td>ivo://helio-informatics.org/FL_SWPC_20221002_085325_20221002051800</td><td>SWPC</td><td>40.5</td><td>13110</td><td>None</td><td>39.5</td><td></td><td></td><td>None</td><td>false</td><td>1</td><td>0.652777465186566</td><td>None</td><td>18</td><td></td><td></td><td>40</td><td>true</td><td></td><td></td><td>GOES</td><td>1</td><td>1</td><td>625.35489748489556</td><td>2022-10-02 05:31:00.000</td><td>None</td><td>18</td><td>None</td><td>40</td><td>GOES</td><td>None</td><td>Flare</td><td></td><td></td><td>None</td><td>161.73279</td><td>289.978393868834</td><td>2022-10-02 05:22:00.000</td><td>18</td><td></td><td>C2.8</td><td>POINT(40 18)</td><td></td><td>None</td><td>None</td><td></td><td></td><td>None</td><td></td><td>XRA</td><td>None</td><td>POLYGON((39.5 17.5,40.5 17.5,40.5 18.5,39.5 18.5,39.5 17.5))</td><td></td><td></td><td>{&apos;ref_name&apos;: &apos;FRM_URL&apos;, &apos;ref_type&apos;: &apos;unknown&apos;, &apos;ref_url&apos;: &apos;http://www.swpc.noaa.gov/&apos;}</td></tr>\n",
       "<tr><td>...</td><td>...</td><td>...</td><td>...</td><td>...</td><td>...</td><td>...</td><td>...</td><td>...</td><td>...</td><td>...</td><td>...</td><td>...</td><td>...</td><td>...</td><td>...</td><td>...</td><td>...</td><td>...</td><td>...</td><td>...</td><td>...</td><td>...</td><td>...</td><td>...</td><td>...</td><td>...</td><td>...</td><td>...</td><td>...</td><td>...</td><td>...</td><td>...</td><td>...</td><td>...</td><td>...</td><td>...</td><td>...</td><td>...</td><td>...</td><td>...</td><td>...</td><td>...</td><td>...</td><td>...</td><td>...</td><td>...</td><td>...</td><td>...</td><td>...</td><td>...</td><td>...</td><td>...</td><td>...</td><td>...</td><td>...</td><td>...</td><td>...</td><td>...</td><td>...</td><td>...</td><td>...</td><td>...</td><td>...</td><td>...</td><td>...</td><td>...</td><td>...</td><td>...</td><td>...</td><td>...</td><td>...</td><td>...</td><td>...</td><td>...</td><td>...</td><td>...</td><td>...</td><td>...</td><td>...</td><td>...</td><td>...</td><td>...</td><td>...</td><td>...</td><td>...</td><td>...</td><td>...</td><td>...</td><td>...</td><td>...</td><td>...</td><td>...</td><td>...</td><td>...</td><td>...</td><td>...</td><td>...</td><td>...</td><td>...</td><td>...</td><td>...</td><td>...</td><td>...</td><td>...</td><td>...</td><td>...</td><td>...</td><td>...</td><td>...</td><td>...</td><td>...</td><td>...</td><td>...</td><td>...</td><td>...</td><td>...</td><td>...</td><td>...</td><td>...</td><td>...</td><td>...</td><td>...</td><td>...</td><td>...</td><td>...</td><td>...</td><td>...</td><td>...</td><td>...</td><td>...</td><td>...</td><td>...</td><td>...</td><td>...</td><td>...</td><td>...</td><td>...</td><td>...</td><td>...</td><td>...</td><td>...</td></tr>\n",
       "<tr><td></td><td>0</td><td>POLYGON((-1.675633 -954.69528,1.675633 -954.69528,1.677464 955.64346,-1.677464 955.64346,-1.675633 -954.69528))</td><td>false</td><td>POINT(-4.02861999999999 0)</td><td>UTC-HGS-TOPO</td><td>None</td><td>POINT(0 -102.922344)</td><td>None</td><td></td><td>None</td><td>SSWIDL get_gev, ..., ngdc=0</td><td>POINT(0.107138394086595 180)</td><td>2022-10-11 18:04:00.000</td><td></td><td>FL</td><td>None</td><td>None</td><td>5e-08</td><td>http://www.swpc.noaa.gov/</td><td></td><td></td><td>true</td><td></td><td>true</td><td>None</td><td>None</td><td></td><td></td><td>None</td><td></td><td></td><td>POLYGON((-93.92862 -89.9,85.87138 -89.9,85.87138 89.9,-93.92862 89.9,-93.92862 -89.9))</td><td>None</td><td></td><td>XRA</td><td></td><td></td><td>SOL2022-10-11T18:04:00L356C090</td><td>None</td><td>9</td><td></td><td></td><td></td><td>SWPC.Webmaster@noaa.gov</td><td></td><td>None</td><td>None</td><td>SWPC</td><td>None</td><td>SWPC</td><td>GOES</td><td></td><td>89.9000015258789</td><td></td><td>-89.9000015258789</td><td>U.S. Dept. of Commerce, NOAA, Space Weather Prediction Center</td><td>POLYGON((0.993804 179.899437,0.993804 180.100563,0.994791 359.899427,0.994791 0.100573,0.993804 179.899437))</td><td></td><td></td><td></td><td>None</td><td></td><td>0.52200000000000002</td><td>None</td><td>None</td><td>None</td><td></td><td></td><td></td><td>None</td><td>None</td><td>2022-10-11T00:00:00</td><td>degrees</td><td>-102.922344</td><td>0.0</td><td>GOES</td><td>None</td><td>2022-10-11T20:58:33</td><td>autosubmission_swpc</td><td>None</td><td>0</td><td></td><td>None</td><td></td><td></td><td>cm</td><td>ivo://helio-informatics.org/FL_SWPC_20221011_205830_20221011180400</td><td>SWPC</td><td>89.9000015258789</td><td>0</td><td>None</td><td>-89.9000015258789</td><td></td><td></td><td>None</td><td>false</td><td>90</td><td>0.107138394086595</td><td>None</td><td>0</td><td></td><td></td><td>0</td><td>true</td><td></td><td></td><td>GOES</td><td>90</td><td>1</td><td>102.922343999999995</td><td>2022-10-11 18:24:00.000</td><td>None</td><td>0</td><td>None</td><td>0</td><td>GOES</td><td>None</td><td>Flare</td><td></td><td></td><td>None</td><td>-4.02861999999999</td><td>180.0</td><td>2022-10-11 18:19:00.000</td><td>0</td><td></td><td>C6.1</td><td>POINT(0 0)</td><td></td><td>None</td><td>None</td><td></td><td></td><td>None</td><td></td><td>XRA</td><td>None</td><td>POLYGON((-89.9 -89.9,89.9 -89.9,89.9 89.9,-89.9 89.9,-89.9 -89.9))</td><td></td><td></td><td>{&apos;ref_name&apos;: &apos;FRM_URL&apos;, &apos;ref_type&apos;: &apos;unknown&apos;, &apos;ref_url&apos;: &apos;http://www.swpc.noaa.gov/&apos;}</td></tr>\n",
       "<tr><td></td><td>0</td><td>POLYGON((-1.675658 -954.71514,1.675658 -954.71514,1.677488 955.66284,-1.677488 955.66284,-1.675658 -954.71514))</td><td>false</td><td>POINT(-4.68822999999998 0)</td><td>UTC-HGS-TOPO</td><td>None</td><td>POINT(0 -102.867594)</td><td>None</td><td></td><td>None</td><td>SSWIDL get_gev, ..., ngdc=0</td><td>POINT(0.10707987759652 180)</td><td>2022-10-11 19:16:00.000</td><td></td><td>FL</td><td>None</td><td>None</td><td>5e-08</td><td>http://www.swpc.noaa.gov/</td><td></td><td></td><td>true</td><td></td><td>true</td><td>None</td><td>None</td><td></td><td></td><td>None</td><td></td><td></td><td>POLYGON((-94.58823 -89.9,85.21177 -89.9,85.21177 89.9,-94.58823 89.9,-94.58823 -89.9))</td><td>None</td><td></td><td>XRA</td><td></td><td></td><td>SOL2022-10-11T19:16:00L356C090</td><td>None</td><td>9</td><td></td><td></td><td></td><td>SWPC.Webmaster@noaa.gov</td><td></td><td>None</td><td>None</td><td>SWPC</td><td>None</td><td>SWPC</td><td>GOES</td><td></td><td>89.9000015258789</td><td></td><td>-89.9000015258789</td><td>U.S. Dept. of Commerce, NOAA, Space Weather Prediction Center</td><td>POLYGON((0.993811 179.899438,0.993811 180.100562,0.994797 359.899428,0.994797 0.100572,0.993811 179.899438))</td><td></td><td></td><td></td><td>None</td><td></td><td>0.458000000000000018</td><td>None</td><td>None</td><td>None</td><td></td><td></td><td></td><td>None</td><td>None</td><td>2022-10-11T00:00:00</td><td>degrees</td><td>-102.867594</td><td>0.0</td><td>GOES</td><td>None</td><td>2022-10-11T20:58:36</td><td>autosubmission_swpc</td><td>None</td><td>0</td><td></td><td>None</td><td></td><td></td><td>cm</td><td>ivo://helio-informatics.org/FL_SWPC_20221011_205834_20221011191600</td><td>SWPC</td><td>89.9000015258789</td><td>0</td><td>None</td><td>-89.9000015258789</td><td></td><td></td><td>None</td><td>false</td><td>90</td><td>0.10707987759652</td><td>None</td><td>0</td><td></td><td></td><td>0</td><td>true</td><td></td><td></td><td>GOES</td><td>90</td><td>1</td><td>102.867593999999997</td><td>2022-10-11 19:36:00.000</td><td>None</td><td>0</td><td>None</td><td>0</td><td>GOES</td><td>None</td><td>Flare</td><td></td><td></td><td>None</td><td>-4.68822999999998</td><td>180.0</td><td>2022-10-11 19:31:00.000</td><td>0</td><td></td><td>C2.9</td><td>POINT(0 0)</td><td></td><td>None</td><td>None</td><td></td><td></td><td>None</td><td></td><td>XRA</td><td>None</td><td>POLYGON((-89.9 -89.9,89.9 -89.9,89.9 89.9,-89.9 89.9,-89.9 -89.9))</td><td></td><td></td><td>{&apos;ref_name&apos;: &apos;FRM_URL&apos;, &apos;ref_type&apos;: &apos;unknown&apos;, &apos;ref_url&apos;: &apos;http://www.swpc.noaa.gov/&apos;}</td></tr>\n",
       "<tr><td></td><td>0</td><td>POLYGON((-1.675685 -954.73716,1.675685 -954.73716,1.677514 955.68432,-1.677514 955.68432,-1.675685 -954.73716))</td><td>false</td><td>POINT(-5.42111999999997 0)</td><td>UTC-HGS-TOPO</td><td>None</td><td>POINT(0 -102.80667)</td><td>None</td><td></td><td>None</td><td>SSWIDL get_gev, ..., ngdc=0</td><td>POINT(0.107014766725755 180)</td><td>2022-10-11 20:36:00.000</td><td></td><td>FL</td><td>None</td><td>None</td><td>5e-08</td><td>http://www.swpc.noaa.gov/</td><td></td><td></td><td>true</td><td></td><td>true</td><td>None</td><td>None</td><td></td><td></td><td>None</td><td></td><td></td><td>POLYGON((-95.32112 -89.9,84.47888 -89.9,84.47888 89.9,-95.32112 89.9,-95.32112 -89.9))</td><td>None</td><td></td><td>XRA</td><td></td><td></td><td>SOL2022-10-11T20:36:00L355C090</td><td>None</td><td>9</td><td></td><td></td><td></td><td>SWPC.Webmaster@noaa.gov</td><td></td><td>None</td><td>None</td><td>SWPC</td><td>None</td><td>SWPC</td><td>GOES</td><td></td><td>89.9000015258789</td><td></td><td>-89.9000015258789</td><td>U.S. Dept. of Commerce, NOAA, Space Weather Prediction Center</td><td>POLYGON((0.993818 179.899439,0.993818 180.100561,0.994804 359.899429,0.994804 0.100571,0.993818 179.899439))</td><td></td><td></td><td></td><td>None</td><td></td><td>0.422000000000000042</td><td>None</td><td>None</td><td>None</td><td></td><td></td><td></td><td>None</td><td>None</td><td>2022-10-11T00:00:00</td><td>degrees</td><td>-102.80667</td><td>0.0</td><td>GOES</td><td>None</td><td>2022-10-12T02:53:13</td><td>autosubmission_swpc</td><td>None</td><td>0</td><td></td><td>None</td><td></td><td></td><td>cm</td><td>ivo://helio-informatics.org/FL_SWPC_20221012_025311_20221011203600</td><td>SWPC</td><td>89.9000015258789</td><td>0</td><td>None</td><td>-89.9000015258789</td><td></td><td></td><td>None</td><td>false</td><td>90</td><td>0.107014766725755</td><td>None</td><td>0</td><td></td><td></td><td>0</td><td>true</td><td></td><td></td><td>GOES</td><td>90</td><td>1</td><td>102.806669999999997</td><td>2022-10-11 20:45:00.000</td><td>None</td><td>0</td><td>None</td><td>0</td><td>GOES</td><td>None</td><td>Flare</td><td></td><td></td><td>None</td><td>-5.42111999999997</td><td>180.0</td><td>2022-10-11 20:40:00.000</td><td>0</td><td></td><td>C1.1</td><td>POINT(0 0)</td><td></td><td>None</td><td>None</td><td></td><td></td><td>None</td><td></td><td>XRA</td><td>None</td><td>POLYGON((-89.9 -89.9,89.9 -89.9,89.9 89.9,-89.9 89.9,-89.9 -89.9))</td><td></td><td></td><td>{&apos;ref_name&apos;: &apos;FRM_URL&apos;, &apos;ref_type&apos;: &apos;unknown&apos;, &apos;ref_url&apos;: &apos;http://www.swpc.noaa.gov/&apos;}</td></tr>\n",
       "<tr><td></td><td>0</td><td>POLYGON((-1.675697 -954.74736,1.675697 -954.74736,1.677526 955.69428,-1.677526 955.69428,-1.675697 -954.74736))</td><td>false</td><td>POINT(-5.76008000000002 0)</td><td>UTC-HGS-TOPO</td><td>None</td><td>POINT(0 -102.778458)</td><td>None</td><td></td><td>None</td><td>SSWIDL get_gev, ..., ngdc=0</td><td>POINT(0.106984618174934 180)</td><td>2022-10-11 21:13:00.000</td><td></td><td>FL</td><td>None</td><td>None</td><td>5e-08</td><td>http://www.swpc.noaa.gov/</td><td></td><td></td><td>true</td><td></td><td>true</td><td>None</td><td>None</td><td></td><td></td><td>None</td><td></td><td></td><td>POLYGON((-95.66008 -89.9,84.13992 -89.9,84.13992 89.9,-95.66008 89.9,-95.66008 -89.9))</td><td>None</td><td></td><td>XRA</td><td></td><td></td><td>SOL2022-10-11T21:13:00L355C090</td><td>None</td><td>9</td><td></td><td></td><td></td><td>SWPC.Webmaster@noaa.gov</td><td></td><td>None</td><td>None</td><td>SWPC</td><td>None</td><td>SWPC</td><td>GOES</td><td></td><td>89.9000015258789</td><td></td><td>-89.9000015258789</td><td>U.S. Dept. of Commerce, NOAA, Space Weather Prediction Center</td><td>POLYGON((0.993821 179.899439,0.993821 180.100561,0.994807 359.899429,0.994807 0.100571,0.993821 179.899439))</td><td></td><td></td><td></td><td>None</td><td></td><td>0.478000000000000036</td><td>None</td><td>None</td><td>None</td><td></td><td></td><td></td><td>None</td><td>None</td><td>2022-10-11T00:00:00</td><td>degrees</td><td>-102.778458</td><td>0.0</td><td>GOES</td><td>None</td><td>2022-10-12T02:53:17</td><td>autosubmission_swpc</td><td>None</td><td>0</td><td></td><td>None</td><td></td><td></td><td>cm</td><td>ivo://helio-informatics.org/FL_SWPC_20221012_025315_20221011211300</td><td>SWPC</td><td>89.9000015258789</td><td>0</td><td>None</td><td>-89.9000015258789</td><td></td><td></td><td>None</td><td>false</td><td>90</td><td>0.106984618174934</td><td>None</td><td>0</td><td></td><td></td><td>0</td><td>true</td><td></td><td></td><td>GOES</td><td>90</td><td>1</td><td>102.778458000000001</td><td>2022-10-11 21:28:00.000</td><td>None</td><td>0</td><td>None</td><td>0</td><td>GOES</td><td>None</td><td>Flare</td><td></td><td></td><td>None</td><td>-5.76008000000002</td><td>180.0</td><td>2022-10-11 21:21:00.000</td><td>0</td><td></td><td>C3.9</td><td>POINT(0 0)</td><td></td><td>None</td><td>None</td><td></td><td></td><td>None</td><td></td><td>XRA</td><td>None</td><td>POLYGON((-89.9 -89.9,89.9 -89.9,89.9 89.9,-89.9 89.9,-89.9 -89.9))</td><td></td><td></td><td>{&apos;ref_name&apos;: &apos;FRM_URL&apos;, &apos;ref_type&apos;: &apos;unknown&apos;, &apos;ref_url&apos;: &apos;http://www.swpc.noaa.gov/&apos;}</td></tr>\n",
       "<tr><td></td><td>0</td><td>POLYGON((-1.67593 -954.93846,1.67593 -954.93846,1.677751 955.88058,-1.677751 955.88058,-1.67593 -954.93846))</td><td>false</td><td>POINT(-12.10871 0)</td><td>UTC-HGS-TOPO</td><td>None</td><td>POINT(0 -102.246156)</td><td>None</td><td></td><td>None</td><td>SSWIDL get_gev, ..., ngdc=0</td><td>POINT(0.106415981086073 180)</td><td>2022-10-12 08:46:00.000</td><td></td><td>FL</td><td>None</td><td>None</td><td>5e-08</td><td>http://www.swpc.noaa.gov/</td><td></td><td></td><td>true</td><td></td><td>true</td><td>None</td><td>None</td><td></td><td></td><td>None</td><td></td><td></td><td>POLYGON((-102.00871 -89.9,77.79129 -89.9,77.79129 89.9,-102.00871 89.9,-102.00871 -89.9))</td><td>None</td><td></td><td>XRA</td><td></td><td></td><td>SOL2022-10-12T08:46:00L348C090</td><td>None</td><td>9</td><td></td><td></td><td></td><td>SWPC.Webmaster@noaa.gov</td><td></td><td>None</td><td>None</td><td>SWPC</td><td>None</td><td>SWPC</td><td>GOES</td><td></td><td>89.9000015258789</td><td></td><td>-89.9000015258789</td><td>U.S. Dept. of Commerce, NOAA, Space Weather Prediction Center</td><td>POLYGON((0.993884 179.899445,0.993884 180.100555,0.994865 359.899435,0.994865 0.100565,0.993884 179.899445))</td><td></td><td></td><td></td><td>None</td><td></td><td>0.474000000000000032</td><td>None</td><td>None</td><td>None</td><td></td><td></td><td></td><td>None</td><td>None</td><td>2022-10-12T00:00:00</td><td>degrees</td><td>-102.246156</td><td>0.0</td><td>GOES</td><td>None</td><td>2022-10-12T12:53:48</td><td>autosubmission_swpc</td><td>None</td><td>0</td><td></td><td>None</td><td></td><td></td><td>cm</td><td>ivo://helio-informatics.org/FL_SWPC_20221012_125345_20221012084600</td><td>SWPC</td><td>89.9000015258789</td><td>0</td><td>None</td><td>-89.9000015258789</td><td></td><td></td><td>None</td><td>false</td><td>90</td><td>0.106415981086073</td><td>None</td><td>0</td><td></td><td></td><td>0</td><td>true</td><td></td><td></td><td>GOES</td><td>90</td><td>1</td><td>102.246155999999999</td><td>2022-10-12 10:12:00.000</td><td>None</td><td>0</td><td>None</td><td>0</td><td>GOES</td><td>None</td><td>Flare</td><td></td><td></td><td>None</td><td>-12.10871</td><td>180.0</td><td>2022-10-12 09:30:00.000</td><td>0</td><td></td><td>C3.7</td><td>POINT(0 0)</td><td></td><td>None</td><td>None</td><td></td><td></td><td>None</td><td></td><td>XRA</td><td>None</td><td>POLYGON((-89.9 -89.9,89.9 -89.9,89.9 89.9,-89.9 89.9,-89.9 -89.9))</td><td></td><td></td><td>{&apos;ref_name&apos;: &apos;FRM_URL&apos;, &apos;ref_type&apos;: &apos;unknown&apos;, &apos;ref_url&apos;: &apos;http://www.swpc.noaa.gov/&apos;}</td></tr>\n",
       "<tr><td></td><td>0</td><td>POLYGON((686.22582 339.695706,695.60712 340.949982,689.95974 356.558448,680.65422 355.315254,686.22582 339.695706))</td><td>false</td><td>POINT(36.88648 25)</td><td>UTC-HGS-TOPO</td><td>None</td><td>POINT(688.16436 348.141084)</td><td>None</td><td></td><td>None</td><td>SSWIDL get_gev, ..., ngdc=0</td><td>POINT(0.802614907014559 296.834764627921)</td><td>2022-10-12 14:14:00.000</td><td></td><td>FL</td><td>None</td><td>None</td><td>5e-08</td><td>http://www.swpc.noaa.gov/</td><td></td><td></td><td>false</td><td></td><td>true</td><td>None</td><td>None</td><td></td><td></td><td>None</td><td></td><td>010300000001000000050000002AC6F99B50098440D2DF4BE141D272402AC6F99B50098440D2DF4BE141B278402AC6F99B50F98640D2DF4BE141B278402AC6F99B50F98640D2DF4BE141D272402AC6F99B50098440D2DF4BE141D27240</td><td>POLYGON((36.38648 24.5,37.38648 24.5,37.38648 25.5,36.38648 25.5,36.38648 24.5))</td><td>None</td><td></td><td>XRA</td><td></td><td></td><td>SOL2022-10-12T14:14:00L036C065</td><td>None</td><td>9</td><td></td><td></td><td></td><td>SWPC.Webmaster@noaa.gov</td><td></td><td>None</td><td>None</td><td>SWPC</td><td>None</td><td>SWPC</td><td>GOES</td><td></td><td>25.5</td><td></td><td>24.5</td><td>U.S. Dept. of Commerce, NOAA, Space Weather Prediction Center</td><td>POLYGON((0.796877 296.336344,0.806212 296.111661,0.808267 297.329085,0.799076 297.565469,0.796877 296.336344))</td><td></td><td></td><td></td><td>None</td><td></td><td>0.576000000000000068</td><td>None</td><td>None</td><td>None</td><td></td><td></td><td></td><td>None</td><td>None</td><td>2022-10-12T00:00:00</td><td>degrees</td><td>348.141084</td><td>688.16436</td><td>GOES</td><td>None</td><td>2022-10-13T02:53:16</td><td>autosubmission_swpc</td><td>None</td><td>1</td><td></td><td>None</td><td></td><td></td><td>cm</td><td>ivo://helio-informatics.org/FL_SWPC_20221013_025313_20221012141400</td><td>SWPC</td><td>52.5</td><td>13112</td><td>None</td><td>51.5</td><td></td><td></td><td>None</td><td>false</td><td>1</td><td>0.802614907014559</td><td>None</td><td>25</td><td></td><td></td><td>52</td><td>true</td><td></td><td></td><td>GOES</td><td>1</td><td>1</td><td>771.214886230099069</td><td>2022-10-12 14:22:00.000</td><td>None</td><td>25</td><td>None</td><td>52</td><td>GOES</td><td>None</td><td>Flare</td><td></td><td></td><td>None</td><td>36.88648</td><td>296.834764627921</td><td>2022-10-12 14:18:00.000</td><td>25</td><td></td><td>C8.8</td><td>POINT(52 25)</td><td></td><td>None</td><td>None</td><td></td><td></td><td>None</td><td></td><td>XRA</td><td>None</td><td>POLYGON((51.5 24.5,52.5 24.5,52.5 25.5,51.5 25.5,51.5 24.5))</td><td></td><td></td><td>{&apos;ref_name&apos;: &apos;FRM_URL&apos;, &apos;ref_type&apos;: &apos;unknown&apos;, &apos;ref_url&apos;: &apos;http://www.swpc.noaa.gov/&apos;}</td></tr>\n",
       "<tr><td></td><td>0</td><td>POLYGON((-1.676085 -955.06536,1.676085 -955.06536,1.6779 956.00436,-1.6779 956.00436,-1.676085 -955.06536))</td><td>false</td><td>POINT(-16.32277 0)</td><td>UTC-HGS-TOPO</td><td>None</td><td>POINT(0 -101.88873)</td><td>None</td><td></td><td>None</td><td>SSWIDL get_gev, ..., ngdc=0</td><td>POINT(0.106034378357877 180)</td><td>2022-10-12 16:26:00.000</td><td></td><td>FL</td><td>None</td><td>None</td><td>5e-08</td><td>http://www.swpc.noaa.gov/</td><td></td><td></td><td>true</td><td></td><td>true</td><td>None</td><td>None</td><td></td><td></td><td>None</td><td></td><td></td><td>POLYGON((-106.22277 -89.9,73.57723 -89.9,73.57723 89.9,-106.22277 89.9,-106.22277 -89.9))</td><td>None</td><td></td><td>XRA</td><td></td><td></td><td>SOL2022-10-12T16:26:00L344C090</td><td>None</td><td>9</td><td></td><td></td><td></td><td>SWPC.Webmaster@noaa.gov</td><td></td><td>None</td><td>None</td><td>SWPC</td><td>None</td><td>SWPC</td><td>GOES</td><td></td><td>89.9000015258789</td><td></td><td>-89.9000015258789</td><td>U.S. Dept. of Commerce, NOAA, Space Weather Prediction Center</td><td>POLYGON((0.993927 179.899449,0.993927 180.100551,0.994904 359.899439,0.994904 0.100561,0.993927 179.899449))</td><td></td><td></td><td></td><td>None</td><td></td><td>0.493999999999999995</td><td>None</td><td>None</td><td>None</td><td></td><td></td><td></td><td>None</td><td>None</td><td>2022-10-12T00:00:00</td><td>degrees</td><td>-101.88873</td><td>0.0</td><td>GOES</td><td>None</td><td>2022-10-13T02:53:20</td><td>autosubmission_swpc</td><td>None</td><td>0</td><td></td><td>None</td><td></td><td></td><td>cm</td><td>ivo://helio-informatics.org/FL_SWPC_20221013_025317_20221012162600</td><td>SWPC</td><td>89.9000015258789</td><td>0</td><td>None</td><td>-89.9000015258789</td><td></td><td></td><td>None</td><td>false</td><td>90</td><td>0.106034378357877</td><td>None</td><td>0</td><td></td><td></td><td>0</td><td>true</td><td></td><td></td><td>GOES</td><td>90</td><td>1</td><td>101.88873000000001</td><td>2022-10-12 16:33:00.000</td><td>None</td><td>0</td><td>None</td><td>0</td><td>GOES</td><td>None</td><td>Flare</td><td></td><td></td><td>None</td><td>-16.32277</td><td>180.0</td><td>2022-10-12 16:29:00.000</td><td>0</td><td></td><td>C4.7</td><td>POINT(0 0)</td><td></td><td>None</td><td>None</td><td></td><td></td><td>None</td><td></td><td>XRA</td><td>None</td><td>POLYGON((-89.9 -89.9,89.9 -89.9,89.9 89.9,-89.9 89.9,-89.9 -89.9))</td><td></td><td></td><td>{&apos;ref_name&apos;: &apos;FRM_URL&apos;, &apos;ref_type&apos;: &apos;unknown&apos;, &apos;ref_url&apos;: &apos;http://www.swpc.noaa.gov/&apos;}</td></tr>\n",
       "<tr><td></td><td>0</td><td>POLYGON((-1.676236 -955.18896,1.676236 -955.18896,1.678045 956.12484,-1.678045 956.12484,-1.676236 -955.18896))</td><td>false</td><td>POINT(-20.42687 0)</td><td>UTC-HGS-TOPO</td><td>None</td><td>POINT(0 -101.537502)</td><td>None</td><td></td><td>None</td><td>SSWIDL get_gev, ..., ngdc=0</td><td>POINT(0.105659559292647 180)</td><td>2022-10-12 23:54:00.000</td><td></td><td>FL</td><td>None</td><td>None</td><td>5e-08</td><td>http://www.swpc.noaa.gov/</td><td></td><td></td><td>true</td><td></td><td>true</td><td>None</td><td>None</td><td></td><td></td><td>None</td><td></td><td></td><td>POLYGON((-110.32687 -89.9,69.47313 -89.9,69.47313 89.9,-110.32687 89.9,-110.32687 -89.9))</td><td>None</td><td></td><td>XRA</td><td></td><td></td><td>SOL2022-10-12T23:54:00L340C090</td><td>None</td><td>9</td><td></td><td></td><td></td><td>SWPC.Webmaster@noaa.gov</td><td></td><td>None</td><td>None</td><td>SWPC</td><td>None</td><td>SWPC</td><td>GOES</td><td></td><td>89.9000015258789</td><td></td><td>-89.9000015258789</td><td>U.S. Dept. of Commerce, NOAA, Space Weather Prediction Center</td><td>POLYGON((0.993968 179.899453,0.993968 180.100547,0.994942 359.899443,0.994942 0.100557,0.993968 179.899453))</td><td></td><td></td><td></td><td>None</td><td></td><td>0.630000000000000004</td><td>None</td><td>None</td><td>None</td><td></td><td></td><td></td><td>None</td><td>None</td><td>2022-10-12T00:00:00</td><td>degrees</td><td>-101.537502</td><td>0.0</td><td>GOES</td><td>None</td><td>2022-10-13T08:53:15</td><td>autosubmission_swpc</td><td>None</td><td>0</td><td></td><td>None</td><td></td><td></td><td>cm</td><td>ivo://helio-informatics.org/FL_SWPC_20221013_085313_20221012235400</td><td>SWPC</td><td>89.9000015258789</td><td>0</td><td>None</td><td>-89.9000015258789</td><td></td><td></td><td>None</td><td>false</td><td>90</td><td>0.105659559292647</td><td>None</td><td>0</td><td></td><td></td><td>0</td><td>true</td><td></td><td></td><td>GOES</td><td>90</td><td>1</td><td>101.537502000000003</td><td>2022-10-13 00:37:00.000</td><td>None</td><td>0</td><td>None</td><td>0</td><td>GOES</td><td>None</td><td>Flare</td><td></td><td></td><td>None</td><td>-20.42687</td><td>180.0</td><td>2022-10-13 00:19:00.000</td><td>0</td><td></td><td>M1.5</td><td>POINT(0 0)</td><td></td><td>None</td><td>None</td><td></td><td></td><td>None</td><td></td><td>XRA</td><td>None</td><td>POLYGON((-89.9 -89.9,89.9 -89.9,89.9 89.9,-89.9 89.9,-89.9 -89.9))</td><td></td><td></td><td>{&apos;ref_name&apos;: &apos;FRM_URL&apos;, &apos;ref_type&apos;: &apos;unknown&apos;, &apos;ref_url&apos;: &apos;http://www.swpc.noaa.gov/&apos;}</td></tr>\n",
       "<tr><td></td><td>0</td><td>POLYGON((-1.676274 -955.22046,1.676274 -955.22046,1.678082 956.15556,-1.678082 956.15556,-1.676274 -955.22046))</td><td>false</td><td>POINT(-21.47121 0)</td><td>UTC-HGS-TOPO</td><td>None</td><td>POINT(0 -101.44764)</td><td>None</td><td></td><td>None</td><td>SSWIDL get_gev, ..., ngdc=0</td><td>POINT(0.105563688559541 180)</td><td>2022-10-13 01:48:00.000</td><td></td><td>FL</td><td>None</td><td>None</td><td>5e-08</td><td>http://www.swpc.noaa.gov/</td><td></td><td></td><td>true</td><td></td><td>true</td><td>None</td><td>None</td><td></td><td></td><td>None</td><td></td><td></td><td>POLYGON((-111.37121 -89.9,68.42879 -89.9,68.42879 89.9,-111.37121 89.9,-111.37121 -89.9))</td><td>None</td><td></td><td>XRA</td><td></td><td></td><td>SOL2022-10-13T01:48:00L339C090</td><td>None</td><td>9</td><td></td><td></td><td></td><td>SWPC.Webmaster@noaa.gov</td><td></td><td>None</td><td>None</td><td>SWPC</td><td>None</td><td>SWPC</td><td>GOES</td><td></td><td>89.9000015258789</td><td></td><td>-89.9000015258789</td><td>U.S. Dept. of Commerce, NOAA, Space Weather Prediction Center</td><td>POLYGON((0.993978 179.899454,0.993978 180.100546,0.994951 359.899444,0.994951 0.100556,0.993978 179.899454))</td><td></td><td></td><td></td><td>None</td><td></td><td>0.466000000000000025</td><td>None</td><td>None</td><td>None</td><td></td><td></td><td></td><td>None</td><td>None</td><td>2022-10-13T00:00:00</td><td>degrees</td><td>-101.44764</td><td>0.0</td><td>GOES</td><td>None</td><td>2022-10-13T06:53:17</td><td>autosubmission_swpc</td><td>None</td><td>0</td><td></td><td>None</td><td></td><td></td><td>cm</td><td>ivo://helio-informatics.org/FL_SWPC_20221013_065315_20221013014800</td><td>SWPC</td><td>89.9000015258789</td><td>0</td><td>None</td><td>-89.9000015258789</td><td></td><td></td><td>None</td><td>false</td><td>90</td><td>0.105563688559541</td><td>None</td><td>0</td><td></td><td></td><td>0</td><td>true</td><td></td><td></td><td>GOES</td><td>90</td><td>1</td><td>101.447639999999993</td><td>2022-10-13 02:22:00.000</td><td>None</td><td>0</td><td>None</td><td>0</td><td>GOES</td><td>None</td><td>Flare</td><td></td><td></td><td>None</td><td>-21.47121</td><td>180.0</td><td>2022-10-13 02:06:00.000</td><td>0</td><td></td><td>C3.3</td><td>POINT(0 0)</td><td></td><td>None</td><td>None</td><td></td><td></td><td>None</td><td></td><td>XRA</td><td>None</td><td>POLYGON((-89.9 -89.9,89.9 -89.9,89.9 89.9,-89.9 89.9,-89.9 -89.9))</td><td></td><td></td><td>{&apos;ref_name&apos;: &apos;FRM_URL&apos;, &apos;ref_type&apos;: &apos;unknown&apos;, &apos;ref_url&apos;: &apos;http://www.swpc.noaa.gov/&apos;}</td></tr>\n",
       "<tr><td></td><td>0</td><td>POLYGON((-1.676285 -955.22982,1.676285 -955.22982,1.678093 956.16468,-1.678093 956.16468,-1.676285 -955.22982))</td><td>false</td><td>POINT(-21.78268 0)</td><td>UTC-HGS-TOPO</td><td>None</td><td>POINT(0 -101.420796)</td><td>None</td><td></td><td>None</td><td>SSWIDL get_gev, ..., ngdc=0</td><td>POINT(0.105535051487787 180)</td><td>2022-10-13 02:22:00.000</td><td></td><td>FL</td><td>None</td><td>None</td><td>5e-08</td><td>http://www.swpc.noaa.gov/</td><td></td><td></td><td>true</td><td></td><td>true</td><td>None</td><td>None</td><td></td><td></td><td>None</td><td></td><td></td><td>POLYGON((-111.68268 -89.9,68.11732 -89.9,68.11732 89.9,-111.68268 89.9,-111.68268 -89.9))</td><td>None</td><td></td><td>XRA</td><td></td><td></td><td>SOL2022-10-13T02:22:00L339C090</td><td>None</td><td>9</td><td></td><td></td><td></td><td>SWPC.Webmaster@noaa.gov</td><td></td><td>None</td><td>None</td><td>SWPC</td><td>None</td><td>SWPC</td><td>GOES</td><td></td><td>89.9000015258789</td><td></td><td>-89.9000015258789</td><td>U.S. Dept. of Commerce, NOAA, Space Weather Prediction Center</td><td>POLYGON((0.993981 179.899455,0.993981 180.100545,0.994954 359.899445,0.994954 0.100555,0.993981 179.899455))</td><td></td><td></td><td></td><td>None</td><td></td><td>0.476000000000000034</td><td>None</td><td>None</td><td>None</td><td></td><td></td><td></td><td>None</td><td>None</td><td>2022-10-13T00:00:00</td><td>degrees</td><td>-101.420796</td><td>0.0</td><td>GOES</td><td>None</td><td>2022-10-13T06:53:21</td><td>autosubmission_swpc</td><td>None</td><td>0</td><td></td><td>None</td><td></td><td></td><td>cm</td><td>ivo://helio-informatics.org/FL_SWPC_20221013_065319_20221013022200</td><td>SWPC</td><td>89.9000015258789</td><td>0</td><td>None</td><td>-89.9000015258789</td><td></td><td></td><td>None</td><td>false</td><td>90</td><td>0.105535051487787</td><td>None</td><td>0</td><td></td><td></td><td>0</td><td>true</td><td></td><td></td><td>GOES</td><td>90</td><td>1</td><td>101.420795999999996</td><td>2022-10-13 02:29:00.000</td><td>None</td><td>0</td><td>None</td><td>0</td><td>GOES</td><td>None</td><td>Flare</td><td></td><td></td><td>None</td><td>-21.78268</td><td>180.0</td><td>2022-10-13 02:25:00.000</td><td>0</td><td></td><td>C3.8</td><td>POINT(0 0)</td><td></td><td>None</td><td>None</td><td></td><td></td><td>None</td><td></td><td>XRA</td><td>None</td><td>POLYGON((-89.9 -89.9,89.9 -89.9,89.9 89.9,-89.9 89.9,-89.9 -89.9))</td><td></td><td></td><td>{&apos;ref_name&apos;: &apos;FRM_URL&apos;, &apos;ref_type&apos;: &apos;unknown&apos;, &apos;ref_url&apos;: &apos;http://www.swpc.noaa.gov/&apos;}</td></tr>\n",
       "<tr><td></td><td>0</td><td>POLYGON((-1.676331 -955.26738,1.676331 -955.26738,1.678137 956.20128,-1.678137 956.20128,-1.676331 -955.26738))</td><td>false</td><td>POINT(-23.02856 0)</td><td>UTC-HGS-TOPO</td><td>None</td><td>POINT(0 -101.313258)</td><td>None</td><td></td><td>None</td><td>SSWIDL get_gev, ..., ngdc=0</td><td>POINT(0.105420339550585 180)</td><td>2022-10-13 04:38:00.000</td><td></td><td>FL</td><td>None</td><td>None</td><td>5e-08</td><td>http://www.swpc.noaa.gov/</td><td></td><td></td><td>true</td><td></td><td>true</td><td>None</td><td>None</td><td></td><td></td><td>None</td><td></td><td></td><td>POLYGON((-112.92856 -89.9,66.87144 -89.9,66.87144 89.9,-112.92856 89.9,-112.92856 -89.9))</td><td>None</td><td></td><td>XRA</td><td></td><td></td><td>SOL2022-10-13T04:38:00L337C090</td><td>None</td><td>9</td><td></td><td></td><td></td><td>SWPC.Webmaster@noaa.gov</td><td></td><td>None</td><td>None</td><td>SWPC</td><td>None</td><td>SWPC</td><td>GOES</td><td></td><td>89.9000015258789</td><td></td><td>-89.9000015258789</td><td>U.S. Dept. of Commerce, NOAA, Space Weather Prediction Center</td><td>POLYGON((0.993994 179.899456,0.993994 180.100544,0.994966 359.899446,0.994966 0.100554,0.993994 179.899456))</td><td></td><td></td><td></td><td>None</td><td></td><td>0.470000000000000029</td><td>None</td><td>None</td><td>None</td><td></td><td></td><td></td><td>None</td><td>None</td><td>2022-10-13T00:00:00</td><td>degrees</td><td>-101.313258</td><td>0.0</td><td>GOES</td><td>None</td><td>2022-10-13T08:53:22</td><td>autosubmission_swpc</td><td>None</td><td>0</td><td></td><td>None</td><td></td><td></td><td>cm</td><td>ivo://helio-informatics.org/FL_SWPC_20221013_085319_20221013043800</td><td>SWPC</td><td>89.9000015258789</td><td>0</td><td>None</td><td>-89.9000015258789</td><td></td><td></td><td>None</td><td>false</td><td>90</td><td>0.105420339550585</td><td>None</td><td>0</td><td></td><td></td><td>0</td><td>true</td><td></td><td></td><td>GOES</td><td>90</td><td>1</td><td>101.313258000000005</td><td>2022-10-13 04:53:00.000</td><td>None</td><td>0</td><td>None</td><td>0</td><td>GOES</td><td>None</td><td>Flare</td><td></td><td></td><td>None</td><td>-23.02856</td><td>180.0</td><td>2022-10-13 04:45:00.000</td><td>0</td><td></td><td>C3.5</td><td>POINT(0 0)</td><td></td><td>None</td><td>None</td><td></td><td></td><td>None</td><td></td><td>XRA</td><td>None</td><td>POLYGON((-89.9 -89.9,89.9 -89.9,89.9 89.9,-89.9 89.9,-89.9 -89.9))</td><td></td><td></td><td>{&apos;ref_name&apos;: &apos;FRM_URL&apos;, &apos;ref_type&apos;: &apos;unknown&apos;, &apos;ref_url&apos;: &apos;http://www.swpc.noaa.gov/&apos;}</td></tr>\n",
       "<tr><td></td><td>0</td><td>POLYGON((463.362546 399.06501,475.490952 399.907122,470.71125 415.121202,458.704572 414.28815,463.362546 399.06501))</td><td>false</td><td>POINT(8.54381999999998 30)</td><td>UTC-HGS-TOPO</td><td>None</td><td>POINT(467.103108 407.108328)</td><td>None</td><td></td><td>None</td><td>SSWIDL get_gev, ..., ngdc=0</td><td>POINT(0.644699546710589 311.074100285407)</td><td>2022-10-13 09:03:00.000</td><td></td><td>FL</td><td>None</td><td>None</td><td>5e-08</td><td>http://www.swpc.noaa.gov/</td><td></td><td></td><td>false</td><td></td><td>true</td><td>None</td><td>None</td><td></td><td></td><td>None</td><td></td><td>010300000001000000050000004BFF9254A6E57A40DC1324B6BB2577404BFF9254A6E57A40DC1324B6BBBD7B404BFF9254A67D7F40DC1324B6BBBD7B404BFF9254A67D7F40DC1324B6BB2577404BFF9254A6E57A40DC1324B6BB257740</td><td>POLYGON((8.04382 29.5,9.04382 29.5,9.04382 30.5,8.04382 30.5,8.04382 29.5))</td><td>None</td><td></td><td>XRA</td><td></td><td></td><td>SOL2022-10-13T09:03:00L008C060</td><td>None</td><td>9</td><td></td><td></td><td></td><td>SWPC.Webmaster@noaa.gov</td><td></td><td>None</td><td>None</td><td>SWPC</td><td>None</td><td>SWPC</td><td>GOES</td><td></td><td>30.5</td><td></td><td>29.5</td><td>U.S. Dept. of Commerce, NOAA, Space Weather Prediction Center</td><td>POLYGON((0.636278 310.736251,0.646456 310.065193,0.653019 311.409136,0.643121 312.087397,0.636278 310.736251))</td><td></td><td></td><td></td><td>None</td><td></td><td>0.493999999999999995</td><td>None</td><td>None</td><td>None</td><td></td><td></td><td></td><td>None</td><td>None</td><td>2022-10-13T00:00:00</td><td>degrees</td><td>407.108328</td><td>467.103108</td><td>GOES</td><td>None</td><td>2022-10-13T12:58:23</td><td>autosubmission_swpc</td><td>None</td><td>0</td><td></td><td>None</td><td></td><td></td><td>cm</td><td>ivo://helio-informatics.org/FL_SWPC_20221013_125821_20221013090300</td><td>SWPC</td><td>34.5</td><td>13119</td><td>None</td><td>33.5</td><td></td><td></td><td>None</td><td>false</td><td>1</td><td>0.644699546710589</td><td>None</td><td>30</td><td></td><td></td><td>34</td><td>true</td><td></td><td></td><td>GOES</td><td>1</td><td>1</td><td>619.614803107717194</td><td>2022-10-13 09:26:00.000</td><td>None</td><td>30</td><td>None</td><td>34</td><td>GOES</td><td>None</td><td>Flare</td><td></td><td></td><td>None</td><td>8.54381999999998</td><td>311.074100285407</td><td>2022-10-13 09:17:00.000</td><td>30</td><td></td><td>C4.7</td><td>POINT(34 30)</td><td></td><td>None</td><td>None</td><td></td><td></td><td>None</td><td></td><td>XRA</td><td>None</td><td>POLYGON((33.5 29.5,34.5 29.5,34.5 30.5,33.5 30.5,33.5 29.5))</td><td></td><td></td><td>{&apos;ref_name&apos;: &apos;FRM_URL&apos;, &apos;ref_type&apos;: &apos;unknown&apos;, &apos;ref_url&apos;: &apos;http://www.swpc.noaa.gov/&apos;}</td></tr>\n",
       "<tr><td></td><td>0</td><td>POLYGON((-1.676585 -955.47732,1.676585 -955.47732,1.678381 956.40582,-1.678381 956.40582,-1.676585 -955.47732))</td><td>false</td><td>POINT(-29.99076 0)</td><td>UTC-HGS-TOPO</td><td>None</td><td>POINT(0 -100.70709)</td><td>None</td><td></td><td>None</td><td>SSWIDL get_gev, ..., ngdc=0</td><td>POINT(0.104774010567052 180)</td><td>2022-10-13 17:18:00.000</td><td></td><td>FL</td><td>None</td><td>None</td><td>5e-08</td><td>http://www.swpc.noaa.gov/</td><td></td><td></td><td>true</td><td></td><td>true</td><td>None</td><td>None</td><td></td><td></td><td>None</td><td></td><td></td><td>POLYGON((-119.89076 -89.9,59.90924 -89.9,59.90924 89.9,-119.89076 89.9,-119.89076 -89.9))</td><td>None</td><td></td><td>XRA</td><td></td><td></td><td>SOL2022-10-13T17:18:00L331C090</td><td>None</td><td>9</td><td></td><td></td><td></td><td>SWPC.Webmaster@noaa.gov</td><td></td><td>None</td><td>None</td><td>SWPC</td><td>None</td><td>SWPC</td><td>GOES</td><td></td><td>89.9000015258789</td><td></td><td>-89.9000015258789</td><td>U.S. Dept. of Commerce, NOAA, Space Weather Prediction Center</td><td>POLYGON((0.994065 179.899463,0.994065 180.100537,0.995031 359.899453,0.995031 0.100547,0.994065 179.899463))</td><td></td><td></td><td></td><td>None</td><td></td><td>0.434000000000000052</td><td>None</td><td>None</td><td>None</td><td></td><td></td><td></td><td>None</td><td>None</td><td>2022-10-13T00:00:00</td><td>degrees</td><td>-100.70709</td><td>0.0</td><td>GOES</td><td>None</td><td>2022-10-13T20:53:15</td><td>autosubmission_swpc</td><td>None</td><td>0</td><td></td><td>None</td><td></td><td></td><td>cm</td><td>ivo://helio-informatics.org/FL_SWPC_20221013_205312_20221013171800</td><td>SWPC</td><td>89.9000015258789</td><td>0</td><td>None</td><td>-89.9000015258789</td><td></td><td></td><td>None</td><td>false</td><td>90</td><td>0.104774010567052</td><td>None</td><td>0</td><td></td><td></td><td>0</td><td>true</td><td></td><td></td><td>GOES</td><td>90</td><td>1</td><td>100.707089999999994</td><td>2022-10-13 17:36:00.000</td><td>None</td><td>0</td><td>None</td><td>0</td><td>GOES</td><td>None</td><td>Flare</td><td></td><td></td><td>None</td><td>-29.99076</td><td>180.0</td><td>2022-10-13 17:28:00.000</td><td>0</td><td></td><td>C1.7</td><td>POINT(0 0)</td><td></td><td>None</td><td>None</td><td></td><td></td><td>None</td><td></td><td>XRA</td><td>None</td><td>POLYGON((-89.9 -89.9,89.9 -89.9,89.9 89.9,-89.9 89.9,-89.9 -89.9))</td><td></td><td></td><td>{&apos;ref_name&apos;: &apos;FRM_URL&apos;, &apos;ref_type&apos;: &apos;unknown&apos;, &apos;ref_url&apos;: &apos;http://www.swpc.noaa.gov/&apos;}</td></tr>\n",
       "<tr><td></td><td>0</td><td>POLYGON((-1.676677 -955.55358,1.676677 -955.55358,1.67847 956.4801,-1.67847 956.4801,-1.676677 -955.55358))</td><td>false</td><td>POINT(-32.51912 0)</td><td>UTC-HGS-TOPO</td><td>None</td><td>POINT(0 -100.484772)</td><td>None</td><td></td><td>None</td><td>SSWIDL get_gev, ..., ngdc=0</td><td>POINT(0.104537078679038 180)</td><td>2022-10-13 21:54:00.000</td><td></td><td>FL</td><td>None</td><td>None</td><td>5e-08</td><td>http://www.swpc.noaa.gov/</td><td></td><td></td><td>true</td><td></td><td>true</td><td>None</td><td>None</td><td></td><td></td><td>None</td><td></td><td></td><td>POLYGON((-122.41912 -89.9,57.38088 -89.9,57.38088 89.9,-122.41912 89.9,-122.41912 -89.9))</td><td>None</td><td></td><td>XRA</td><td></td><td></td><td>SOL2022-10-13T21:54:00L328C090</td><td>None</td><td>9</td><td></td><td></td><td></td><td>SWPC.Webmaster@noaa.gov</td><td></td><td>None</td><td>None</td><td>SWPC</td><td>None</td><td>SWPC</td><td>GOES</td><td></td><td>89.9000015258789</td><td></td><td>-89.9000015258789</td><td>U.S. Dept. of Commerce, NOAA, Space Weather Prediction Center</td><td>POLYGON((0.99409 179.899465,0.99409 180.100535,0.995054 359.899455,0.995054 0.100545,0.99409 179.899465))</td><td></td><td></td><td></td><td>None</td><td></td><td>0.444000000000000006</td><td>None</td><td>None</td><td>None</td><td></td><td></td><td></td><td>None</td><td>None</td><td>2022-10-13T00:00:00</td><td>degrees</td><td>-100.484772</td><td>0.0</td><td>GOES</td><td>None</td><td>2022-10-14T06:52:52</td><td>autosubmission_swpc</td><td>None</td><td>0</td><td></td><td>None</td><td></td><td></td><td>cm</td><td>ivo://helio-informatics.org/FL_SWPC_20221014_065249_20221013215400</td><td>SWPC</td><td>89.9000015258789</td><td>0</td><td>None</td><td>-89.9000015258789</td><td></td><td></td><td>None</td><td>false</td><td>90</td><td>0.104537078679038</td><td>None</td><td>0</td><td></td><td></td><td>0</td><td>true</td><td></td><td></td><td>GOES</td><td>90</td><td>1</td><td>100.484771999999992</td><td>2022-10-13 22:18:00.000</td><td>None</td><td>0</td><td>None</td><td>0</td><td>GOES</td><td>None</td><td>Flare</td><td></td><td></td><td>None</td><td>-32.51912</td><td>180.0</td><td>2022-10-13 22:07:00.000</td><td>0</td><td></td><td>C2.2</td><td>POINT(0 0)</td><td></td><td>None</td><td>None</td><td></td><td></td><td>None</td><td></td><td>XRA</td><td>None</td><td>POLYGON((-89.9 -89.9,89.9 -89.9,89.9 89.9,-89.9 89.9,-89.9 -89.9))</td><td></td><td></td><td>{&apos;ref_name&apos;: &apos;FRM_URL&apos;, &apos;ref_type&apos;: &apos;unknown&apos;, &apos;ref_url&apos;: &apos;http://www.swpc.noaa.gov/&apos;}</td></tr>\n",
       "<tr><td></td><td>0</td><td>POLYGON((-1.676906 -955.74324,1.676906 -955.74324,1.67869 956.66484,-1.67869 956.66484,-1.676906 -955.74324))</td><td>false</td><td>POINT(-38.80332 0)</td><td>UTC-HGS-TOPO</td><td>None</td><td>POINT(0 -99.927186)</td><td>None</td><td></td><td>None</td><td>SSWIDL get_gev, ..., ngdc=0</td><td>POINT(0.103943102608306 180)</td><td>2022-10-14 09:20:00.000</td><td></td><td>FL</td><td>None</td><td>None</td><td>5e-08</td><td>http://www.swpc.noaa.gov/</td><td></td><td></td><td>true</td><td></td><td>true</td><td>None</td><td>None</td><td></td><td></td><td>None</td><td></td><td></td><td>POLYGON((-128.70332 -89.9,51.09668 -89.9,51.09668 89.9,-128.70332 89.9,-128.70332 -89.9))</td><td>None</td><td></td><td>XRA</td><td></td><td></td><td>SOL2022-10-14T09:20:00L322C090</td><td>None</td><td>9</td><td></td><td></td><td></td><td>SWPC.Webmaster@noaa.gov</td><td></td><td>None</td><td>None</td><td>SWPC</td><td>None</td><td>SWPC</td><td>GOES</td><td></td><td>89.9000015258789</td><td></td><td>-89.9000015258789</td><td>U.S. Dept. of Commerce, NOAA, Space Weather Prediction Center</td><td>POLYGON((0.994155 179.899471,0.994155 180.100529,0.995113 359.899461,0.995113 0.100539,0.994155 179.899471))</td><td></td><td></td><td></td><td>None</td><td></td><td>0.626000000000000001</td><td>None</td><td>None</td><td>None</td><td></td><td></td><td></td><td>None</td><td>None</td><td>2022-10-14T00:00:00</td><td>degrees</td><td>-99.927186</td><td>0.0</td><td>GOES</td><td>None</td><td>2022-10-16T16:57:38</td><td>autosubmission_swpc</td><td>None</td><td>0</td><td></td><td>None</td><td></td><td></td><td>cm</td><td>ivo://helio-informatics.org/FL_SWPC_20221016_165734_20221014092000</td><td>SWPC</td><td>89.9000015258789</td><td>0</td><td>None</td><td>-89.9000015258789</td><td></td><td></td><td>None</td><td>false</td><td>90</td><td>0.103943102608306</td><td>None</td><td>0</td><td></td><td></td><td>0</td><td>true</td><td></td><td></td><td>GOES</td><td>90</td><td>1</td><td>99.9271859999999919</td><td>2022-10-14 09:51:00.000</td><td>None</td><td>0</td><td>None</td><td>0</td><td>GOES</td><td>None</td><td>Flare</td><td></td><td></td><td>None</td><td>-38.80332</td><td>180.0</td><td>2022-10-14 09:44:00.000</td><td>0</td><td></td><td>M1.3</td><td>POINT(0 0)</td><td></td><td>None</td><td>None</td><td></td><td></td><td>None</td><td></td><td>XRA</td><td>None</td><td>POLYGON((-89.9 -89.9,89.9 -89.9,89.9 89.9,-89.9 89.9,-89.9 -89.9))</td><td></td><td></td><td>{&apos;ref_name&apos;: &apos;FRM_URL&apos;, &apos;ref_type&apos;: &apos;unknown&apos;, &apos;ref_url&apos;: &apos;http://www.swpc.noaa.gov/&apos;}</td></tr>\n",
       "</table></div>"
      ],
      "text/plain": [
       "<sunpy.net.hek.hek.HEKTable object at 0x155a2d550>\n",
       "gs_thumburl ...\n",
       "----------- ...\n",
       "            ...\n",
       "            ...\n",
       "            ...\n",
       "            ...\n",
       "            ...\n",
       "            ...\n",
       "            ...\n",
       "            ...\n",
       "            ...\n",
       "            ...\n",
       "            ...\n",
       "            ...\n",
       "            ...\n",
       "            ...\n",
       "            ...\n",
       "        ... ...\n",
       "            ...\n",
       "            ...\n",
       "            ...\n",
       "            ...\n",
       "            ...\n",
       "            ...\n",
       "            ...\n",
       "            ...\n",
       "            ...\n",
       "            ...\n",
       "            ...\n",
       "            ...\n",
       "            ...\n",
       "            ...\n",
       "            ...\n",
       "Length = 122 rows"
      ]
     },
     "execution_count": 85,
     "metadata": {},
     "output_type": "execute_result"
    }
   ],
   "source": [
    "hek_results"
   ]
  },
  {
   "cell_type": "code",
   "execution_count": null,
   "id": "cd71c051",
   "metadata": {},
   "outputs": [],
   "source": []
  },
  {
   "cell_type": "code",
   "execution_count": 84,
   "id": "86d26ce4",
   "metadata": {},
   "outputs": [],
   "source": [
    "from sunpy.net import Fido\n",
    "from sunpy.net import attrs as a\n",
    "from sunpy.timeseries import TimeSeries"
   ]
  },
  {
   "cell_type": "code",
   "execution_count": 32,
   "id": "3b0c704d",
   "metadata": {},
   "outputs": [],
   "source": [
    "a.Instrument.eve?"
   ]
  },
  {
   "cell_type": "code",
   "execution_count": 38,
   "id": "dc50778d",
   "metadata": {},
   "outputs": [
    {
     "name": "stdout",
     "output_type": "stream",
     "text": [
      "Results from 1 Provider:\n",
      "\n",
      "1 Results from the EVEClient:\n",
      "Source: https://lasp.colorado.edu/eve/data_access/evewebdata/quicklook/L0CS/SpWx/\n",
      "\n",
      "       Start Time               End Time        Instrument ... Source Provider Level\n",
      "----------------------- ----------------------- ---------- ... ------ -------- -----\n",
      "2022-11-18 00:00:00.000 2022-11-18 23:59:59.999        EVE ...    SDO     LASP     0\n",
      "\n",
      "\n"
     ]
    }
   ],
   "source": [
    "tstart = \"2022-11-18 01:00\"\n",
    "tend = \"2022-11-18 23:00\"\n",
    "result = Fido.search(a.Time(tstart, tend), a.Instrument(\"EVE\"))\n",
    "print(result)"
   ]
  },
  {
   "cell_type": "code",
   "execution_count": 39,
   "id": "a5eaf8cb",
   "metadata": {},
   "outputs": [
    {
     "name": "stderr",
     "output_type": "stream",
     "text": [
      "Files Downloaded:   0%|                                      | 0/1 [00:00<?, ?file/s]\n",
      "20221118_EVE_L0CS_DIODES_1m.txt:   0%|                    | 0.00/222k [00:00<?, ?B/s]\u001b[A\n",
      "20221118_EVE_L0CS_DIODES_1m.txt:   0%|           | 1.02k/222k [00:00<01:33, 2.37kB/s]\u001b[A\n",
      "20221118_EVE_L0CS_DIODES_1m.txt:  44%|█████▎      | 98.7k/222k [00:00<00:00, 219kB/s]\u001b[A\n",
      "20221118_EVE_L0CS_DIODES_1m.txt:  88%|███████████▍ | 195k/222k [00:00<00:00, 370kB/s]\u001b[A\n",
      "Files Downloaded: 100%|██████████████████████████████| 1/1 [00:01<00:00,  1.08s/file]\u001b[A\n"
     ]
    }
   ],
   "source": [
    "file_eve = Fido.fetch(result)"
   ]
  },
  {
   "cell_type": "code",
   "execution_count": 44,
   "id": "e6e27663",
   "metadata": {},
   "outputs": [
    {
     "data": {
      "text/plain": [
       "'/Users/Kamilobu/sunpy/data/20221118_EVE_L0CS_DIODES_1m.txt'"
      ]
     },
     "execution_count": 44,
     "metadata": {},
     "output_type": "execute_result"
    }
   ],
   "source": [
    "file_eve.data[0]"
   ]
  },
  {
   "cell_type": "code",
   "execution_count": null,
   "id": "0c881e94",
   "metadata": {},
   "outputs": [],
   "source": []
  },
  {
   "cell_type": "code",
   "execution_count": null,
   "id": "10037b71",
   "metadata": {},
   "outputs": [],
   "source": []
  },
  {
   "cell_type": "code",
   "execution_count": null,
   "id": "ff9bc51e",
   "metadata": {},
   "outputs": [],
   "source": []
  },
  {
   "cell_type": "code",
   "execution_count": null,
   "id": "52747444",
   "metadata": {},
   "outputs": [],
   "source": []
  },
  {
   "cell_type": "code",
   "execution_count": 22,
   "id": "e4b2ea61",
   "metadata": {},
   "outputs": [
    {
     "name": "stdout",
     "output_type": "stream",
     "text": [
      "Results from 1 Provider:\n",
      "\n",
      "1 Results from the XRSClient:\n",
      "Source: <13: https://umbra.nascom.nasa.gov/goes/fits \n",
      "13, 14, 15: https://satdat.ngdc.noaa.gov/sem/goes/data/science/ \n",
      "16, 17: https://data.ngdc.noaa.gov/platforms/solar-space-observing-satellites/goes/\n",
      "\n",
      "       Start Time               End Time        Instrument ... Source Provider\n",
      "----------------------- ----------------------- ---------- ... ------ --------\n",
      "2022-06-21 00:00:00.000 2022-06-21 23:59:59.999       GOES ...   GOES     NOAA\n",
      "\n",
      "\n"
     ]
    }
   ],
   "source": [
    "result_goes16 = Fido.search(a.Time(tstart, tend), a.Instrument(\"EVE\"), a.goes.SatelliteNumber(16))\n",
    "print(result_goes16)"
   ]
  },
  {
   "cell_type": "code",
   "execution_count": 23,
   "id": "ceb3808f",
   "metadata": {},
   "outputs": [
    {
     "name": "stderr",
     "output_type": "stream",
     "text": [
      "Files Downloaded: 100%|██████████████████████████████| 1/1 [00:00<00:00,  2.10file/s]\n"
     ]
    }
   ],
   "source": [
    "file_goes16 = Fido.fetch(result_goes16)"
   ]
  },
  {
   "cell_type": "code",
   "execution_count": 27,
   "id": "1d3bdf01",
   "metadata": {},
   "outputs": [
    {
     "data": {
      "text/plain": [
       "['/Users/Kamilobu/sunpy/data/sci_xrsf-l2-flx1s_g16_d20220621_v2-1-0.nc']"
      ]
     },
     "execution_count": 27,
     "metadata": {},
     "output_type": "execute_result"
    }
   ],
   "source": [
    "file_goes16.data"
   ]
  },
  {
   "cell_type": "code",
   "execution_count": null,
   "id": "26dcccc3",
   "metadata": {},
   "outputs": [],
   "source": [
    "a.Instrument."
   ]
  },
  {
   "cell_type": "code",
   "execution_count": null,
   "id": "018b525f",
   "metadata": {},
   "outputs": [],
   "source": [
    "wget --recursive \\\n",
    "     --no-clobber \\\n",
    "     --no-parent \\\n",
    "     --accept nc \\\n",
    "     --wait=0.2 \\\n",
    "     --waitretry=10 \\\n",
    "     -e robots=off \\\n",
    "     https://data.ngdc.noaa.gov/platforms/solar-space-observing-satellites/goes/goes16/l2/data/xrsf-l2-avg1m_science/2021/05/\n"
   ]
  },
  {
   "cell_type": "code",
   "execution_count": null,
   "id": "d037fa6d",
   "metadata": {},
   "outputs": [],
   "source": [
    "https://data.ngdc.noaa.gov/platforms/solar-space-observing-satellites/goes/goes16/l1b/exis-l1b-sfeu_science/"
   ]
  },
  {
   "cell_type": "code",
   "execution_count": 28,
   "id": "63b27b78",
   "metadata": {},
   "outputs": [],
   "source": [
    "import json"
   ]
  },
  {
   "cell_type": "code",
   "execution_count": 29,
   "id": "3c6e0546",
   "metadata": {},
   "outputs": [],
   "source": [
    "# JSON file\n",
    "f = open ('instrument-sources.json', \"r\")\n",
    "  \n",
    "# Reading from file\n",
    "data = json.loads(f.read())"
   ]
  },
  {
   "cell_type": "code",
   "execution_count": 30,
   "id": "84ddbed6",
   "metadata": {},
   "outputs": [
    {
     "data": {
      "text/plain": [
       "[{'electrons': {'primary': 16, 'secondary': 17},\n",
       "  'protons': {'primary': 16, 'secondary': 17},\n",
       "  'magnetometers': {'primary': 16, 'secondary': 17},\n",
       "  'xrays': {'primary': 16, 'secondary': 17}}]"
      ]
     },
     "execution_count": 30,
     "metadata": {},
     "output_type": "execute_result"
    }
   ],
   "source": [
    "data"
   ]
  },
  {
   "cell_type": "code",
   "execution_count": null,
   "id": "d1d62b5f",
   "metadata": {},
   "outputs": [],
   "source": []
  },
  {
   "cell_type": "code",
   "execution_count": null,
   "id": "35b52814",
   "metadata": {},
   "outputs": [],
   "source": []
  },
  {
   "cell_type": "markdown",
   "id": "8f68010b",
   "metadata": {},
   "source": [
    "## L1b (< 30s) or L2 (~1min average)"
   ]
  },
  {
   "cell_type": "code",
   "execution_count": 35,
   "id": "13c5f88f",
   "metadata": {},
   "outputs": [],
   "source": [
    "from astropy.io import fits as fits\n",
    "from datetime import datetime, timedelta\n",
    "import matplotlib.pyplot as plt\n",
    "import matplotlib.dates as md\n",
    "import numpy as np"
   ]
  },
  {
   "cell_type": "code",
   "execution_count": 39,
   "id": "d5e9f38d",
   "metadata": {},
   "outputs": [],
   "source": [
    "path = \"./\"\n",
    "eve_filename = 'esp_L1_2022325_007.fit'\n",
    "hdul = fits.open(path + eve_filename)\n",
    "ref_time = datetime(year=2022, month=11, day=22, hour=0, minute=0, second=0)\n",
    "eve_time = [ref_time + timedelta(seconds=i) for i in hdul[1].data['SOD']]"
   ]
  },
  {
   "cell_type": "code",
   "execution_count": 40,
   "id": "f6121d5e",
   "metadata": {},
   "outputs": [
    {
     "data": {
      "image/png": "[encoded data removed]",
      "text/plain": [
       "<Figure size 1296x360 with 1 Axes>"
      ]
     },
     "metadata": {
      "needs_background": "light"
     },
     "output_type": "display_data"
    }
   ],
   "source": [
    "init  = 2300\n",
    "fig, ax = plt.subplots(figsize=(18,5))\n",
    "tlim = 10000#180000\n",
    "plt.step(eve_time[tlim:],\n",
    "         (hdul[1].data['QD'][tlim:]-hdul[1].data['QD'][tlim:].min())/(hdul[1].data['QD'][tlim:]-hdul[1].data['QD'][tlim:].min()).max(),\n",
    "         linewidth=2,label='SDO EVE 0.1 -- 7.0 nm')\n",
    "\n",
    "# # EVE 30 nm\n",
    "# tlim = 285000\n",
    "# plt.step(eve_time[tlim:],\n",
    "#          (hdul[1].data['CH_30'][tlim:]-hdul[1].data['CH_30'][tlim:].min())/(hdul[1].data['CH_30'][tlim:]-hdul[1].data['CH_30'][tlim:].min()).max(),\n",
    "#          linewidth=2,label='SDO EVE 30 nm',alpha=.7)\n",
    "\n",
    "# ornaments\n",
    "ax.set_xlim([datetime(2022,11,22,0,0), datetime(2022,11,22,23,59)])\n",
    "ax.set_ylim([-0.01,1.05])\n",
    "xfmt = md.DateFormatter('%H:%M')\n",
    "ax.xaxis.set_major_formatter(xfmt)\n",
    "ax.set_xlabel('Time [Hour:Minute]',fontsize=24)\n",
    "ax.set_ylabel('Normalized irradiances',fontsize=24)\n",
    "ax.tick_params(axis='both', labelsize=20)"
   ]
  },
  {
   "cell_type": "code",
   "execution_count": 29,
   "id": "e5e05323",
   "metadata": {},
   "outputs": [
    {
     "data": {
      "text/plain": [
       "FITS_rec([(0.00025504, 0.00025504, 0.00025504, 0.00025504, 0.00025617, 0.00084413, 0.00044788, 0.00083562, -1.7472479e-06, 49., 1.2876567e-06, 1.2876567e-06, 1.2876567e-06, 1.2876567e-06, 2.5753134e-06, 7.845548e-07, 1.6131069e-06, 1.3165507e-06, 4.0628397e-06, 0.45645425, 2., 21.25, 2022, 325, 1.09449148e-01, 1325.5636, 962.07983, 3174.1765, 1353.1543, 0, 0),\n",
       "          (0.00025353, 0.00025353, 0.00025353, 0.00025353, 0.00025465, 0.00084462, 0.00045961, 0.00083542, -1.7560504e-06, 48., 1.2876567e-06, 1.2876567e-06, 1.2876567e-06, 1.2876567e-06, 2.5753134e-06, 7.845548e-07, 1.6131069e-06, 1.3165507e-06, 4.0628397e-06, 0.45645425, 2., 21.25, 2022, 325, 3.59449148e-01, 1317.7272, 978.8541 , 3168.1143, 1353.1543, 0, 0),\n",
       "          (0.00025428, 0.00025428, 0.00025428, 0.00025428, 0.00025541, 0.00084786, 0.00045568, 0.00083542, -1.7560504e-06, 47., 1.2876567e-06, 1.2876567e-06, 1.2876567e-06, 1.2876567e-06, 2.5753134e-06, 7.845548e-07, 1.6131069e-06, 1.3165507e-06, 4.0628397e-06, 0.45645425, 2., 21.25, 2022, 325, 6.09449148e-01, 1321.6428, 970.467  , 3180.238 , 1353.1543, 0, 0),\n",
       "          ...,\n",
       "          (0.00028134, 0.00028134, 0.00028134, 0.00028134, 0.00028258, 0.00084106, 0.00045943, 0.00083509, -1.7553501e-06, 49., 1.1582816e-06, 1.1582816e-06, 1.1582816e-06, 1.1582816e-06, 2.3165633e-06, 8.066004e-07, 1.0836334e-06, 1.3241802e-06, 1.2156544e-05, 0.529203  , 2., 21.25, 2022, 325, 8.63994073e+04, 1462.83  , 978.8541 , 3155.991 , 1353.1543, 0, 0),\n",
       "          (0.00028058, 0.00028058, 0.00028058, 0.00028058, 0.00028182, 0.00084106, 0.00045943, 0.00083509,  8.0746104e-05, 48., 1.1582816e-06, 1.1582816e-06, 1.1582816e-06, 1.1582816e-06, 2.3165633e-06, 8.066004e-07, 1.0836334e-06, 1.3241802e-06, 1.2156544e-05, 0.529203  , 2., 21.25, 2022, 325, 8.63996573e+04, 1458.9056, 978.8541 , 3155.991 , 1353.1543, 0, 0),\n",
       "          (0.00028209, 0.00028209, 0.00028209, 0.00028209, 0.00028334, 0.00084267, 0.00045943, 0.00083509,  8.0746104e-05, 48., 1.1582816e-06, 1.1582816e-06, 1.1582816e-06, 1.1582816e-06, 2.3165633e-06, 8.066004e-07, 1.0836334e-06, 1.3241802e-06, 1.2156544e-05, 0.529203  , 2., 21.25, 2022, 325, 8.63999073e+04, 1466.7534, 978.8541 , 3162.0527, 1353.1543, 0, 0)],\n",
       "         dtype=(numpy.record, [('Q_0', '>f4'), ('Q_1', '>f4'), ('Q_2', '>f4'), ('Q_3', '>f4'), ('QD', '>f4'), ('CH_18', '>f4'), ('CH_26', '>f4'), ('CH_30', '>f4'), ('CH_36', '>f4'), ('CH_D', '>f4'), ('Q_0_PREC', '>f4'), ('Q_1_PREC', '>f4'), ('Q_2_PREC', '>f4'), ('Q_3_PREC', '>f4'), ('QD_PREC', '>f4'), ('CH_18_PREC', '>f4'), ('CH_26_PREC', '>f4'), ('CH_30_PREC', '>f4'), ('CH_36_PREC', '>f4'), ('CH_D_PREC', '>f4'), ('FILTER', '>f4'), ('CH_TEMP', '>f4'), ('YEAR', '>i2'), ('DOY', '>i2'), ('SOD', '>f8'), ('EFF_QD', '>f4'), ('EFF_CH_26', '>f4'), ('EFF_CH_18', '>f4'), ('EFF_CH_30', '>f4'), ('L1C_FLAGS', 'u1'), ('L1NC_FLAGS', 'u1')]))"
      ]
     },
     "execution_count": 29,
     "metadata": {},
     "output_type": "execute_result"
    }
   ],
   "source": [
    "hdul[1].data['QD']"
   ]
  },
  {
   "cell_type": "code",
   "execution_count": 42,
   "id": "740c3792",
   "metadata": {},
   "outputs": [
    {
     "data": {
      "text/plain": [
       "[<matplotlib.lines.Line2D at 0x14a388220>]"
      ]
     },
     "execution_count": 42,
     "metadata": {},
     "output_type": "execute_result"
    },
    {
     "data": {
      "image/png": "[encoded data removed]",
      "text/plain": [
       "<Figure size 432x288 with 1 Axes>"
      ]
     },
     "metadata": {
      "needs_background": "light"
     },
     "output_type": "display_data"
    }
   ],
   "source": [
    "plt.plot(hdul[1].data['QD'])"
   ]
  },
  {
   "cell_type": "code",
   "execution_count": 45,
   "id": "57fa7527",
   "metadata": {},
   "outputs": [
    {
     "data": {
      "text/plain": [
       "345600"
      ]
     },
     "execution_count": 45,
     "metadata": {},
     "output_type": "execute_result"
    }
   ],
   "source": [
    "len(hdul[1].data['QD'])"
   ]
  },
  {
   "cell_type": "code",
   "execution_count": 41,
   "id": "7ad97760",
   "metadata": {},
   "outputs": [],
   "source": [
    "hdul[1].data['QD'][hdul[1].data['QD'] == -1] = 0.0003"
   ]
  },
  {
   "cell_type": "code",
   "execution_count": 44,
   "id": "ba7b0bce",
   "metadata": {},
   "outputs": [
    {
     "data": {
      "text/plain": [
       "345600"
      ]
     },
     "execution_count": 44,
     "metadata": {},
     "output_type": "execute_result"
    }
   ],
   "source": [
    "len(eve_time)"
   ]
  },
  {
   "cell_type": "code",
   "execution_count": null,
   "id": "0a3091c2",
   "metadata": {},
   "outputs": [],
   "source": []
  }
 ],
 "metadata": {
  "kernelspec": {
   "display_name": "Python 3 (ipykernel)",
   "language": "python",
   "name": "python3"
  },
  "language_info": {
   "codemirror_mode": {
    "name": "ipython",
    "version": 3
   },
   "file_extension": ".py",
   "mimetype": "text/x-python",
   "name": "python",
   "nbconvert_exporter": "python",
   "pygments_lexer": "ipython3",
   "version": "3.9.13"
  },
  "latex_envs": {
   "LaTeX_envs_menu_present": true,
   "autoclose": false,
   "autocomplete": true,
   "bibliofile": "biblio.bib",
   "cite_by": "apalike",
   "current_citInitial": 1,
   "eqLabelWithNumbers": true,
   "eqNumInitial": 1,
   "hotkeys": {
    "equation": "Ctrl-E",
    "itemize": "Ctrl-I"
   },
   "labels_anchors": false,
   "latex_user_defs": false,
   "report_style_numbering": false,
   "user_envs_cfg": false
  }
 },
 "nbformat": 4,
 "nbformat_minor": 5
}
